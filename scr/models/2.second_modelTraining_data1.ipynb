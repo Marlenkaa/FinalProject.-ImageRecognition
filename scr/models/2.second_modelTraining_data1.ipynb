{
 "cells": [
  {
   "cell_type": "code",
   "execution_count": 1,
   "metadata": {
    "colab": {},
    "colab_type": "code",
    "id": "outn-DnH00f1"
   },
   "outputs": [
    {
     "name": "stderr",
     "output_type": "stream",
     "text": [
      "Using TensorFlow backend.\n"
     ]
    },
    {
     "ename": "ModuleNotFoundError",
     "evalue": "No module named 'livelossplot'",
     "output_type": "error",
     "traceback": [
      "\u001b[0;31m---------------------------------------------------------------------------\u001b[0m",
      "\u001b[0;31mModuleNotFoundError\u001b[0m                       Traceback (most recent call last)",
      "\u001b[0;32m<ipython-input-1-7241b1142d9d>\u001b[0m in \u001b[0;36m<module>\u001b[0;34m()\u001b[0m\n\u001b[1;32m     12\u001b[0m \u001b[0;32mfrom\u001b[0m \u001b[0mkeras\u001b[0m\u001b[0;34m.\u001b[0m\u001b[0moptimizers\u001b[0m \u001b[0;32mimport\u001b[0m \u001b[0mAdam\u001b[0m\u001b[0;34m\u001b[0m\u001b[0;34m\u001b[0m\u001b[0m\n\u001b[1;32m     13\u001b[0m \u001b[0;32mfrom\u001b[0m \u001b[0mkeras\u001b[0m\u001b[0;34m.\u001b[0m\u001b[0mlayers\u001b[0m\u001b[0;34m.\u001b[0m\u001b[0mcore\u001b[0m \u001b[0;32mimport\u001b[0m \u001b[0mActivation\u001b[0m\u001b[0;34m,\u001b[0m \u001b[0mFlatten\u001b[0m\u001b[0;34m,\u001b[0m \u001b[0mDropout\u001b[0m\u001b[0;34m,\u001b[0m \u001b[0mDense\u001b[0m\u001b[0;34m\u001b[0m\u001b[0;34m\u001b[0m\u001b[0m\n\u001b[0;32m---> 14\u001b[0;31m \u001b[0;32mimport\u001b[0m \u001b[0mlivelossplot\u001b[0m\u001b[0;34m\u001b[0m\u001b[0;34m\u001b[0m\u001b[0m\n\u001b[0m",
      "\u001b[0;31mModuleNotFoundError\u001b[0m: No module named 'livelossplot'"
     ]
    }
   ],
   "source": [
    "from __future__ import print_function\n",
    "import keras\n",
    "from keras.models import Sequential\n",
    "from keras.layers import Dense, Dropout, Flatten\n",
    "from keras.layers import Conv2D, MaxPooling2D\n",
    "from keras import backend as K\n",
    "import pandas as pd\n",
    "import numpy as np\n",
    "import pickle\n",
    "from sklearn.model_selection import train_test_split\n",
    "from keras.layers.normalization import BatchNormalization\n",
    "from keras.optimizers import Adam\n",
    "from keras.layers.core import Activation, Flatten, Dropout, Dense\n",
    "import livelossplot"
   ]
  },
  {
   "cell_type": "code",
   "execution_count": 34,
   "metadata": {
    "colab": {
     "base_uri": "https://localhost:8080/",
     "height": 34
    },
    "colab_type": "code",
    "id": "jh_EEIBn7yjI",
    "outputId": "ddc58fb7-a59d-4765-a050-134c0b28158f"
   },
   "outputs": [
    {
     "data": {
      "text/plain": [
       "(28448, 3)"
      ]
     },
     "execution_count": 34,
     "metadata": {
      "tags": []
     },
     "output_type": "execute_result"
    }
   ],
   "source": [
    "kitchenware = pickle.load(open('/content/drive/My Drive/dataset.pkl', 'rb'))\n",
    "kitchenware.values.shape"
   ]
  },
  {
   "cell_type": "code",
   "execution_count": 35,
   "metadata": {
    "colab": {
     "base_uri": "https://localhost:8080/",
     "height": 206
    },
    "colab_type": "code",
    "id": "FZu9wwrO1YtQ",
    "outputId": "7395d5f4-3bf6-4166-c338-8276e8a1656a"
   },
   "outputs": [
    {
     "data": {
      "text/html": [
       "<div>\n",
       "<style scoped>\n",
       "    .dataframe tbody tr th:only-of-type {\n",
       "        vertical-align: middle;\n",
       "    }\n",
       "\n",
       "    .dataframe tbody tr th {\n",
       "        vertical-align: top;\n",
       "    }\n",
       "\n",
       "    .dataframe thead th {\n",
       "        text-align: right;\n",
       "    }\n",
       "</style>\n",
       "<table border=\"1\" class=\"dataframe\">\n",
       "  <thead>\n",
       "    <tr style=\"text-align: right;\">\n",
       "      <th></th>\n",
       "      <th>label</th>\n",
       "      <th>image</th>\n",
       "      <th>path</th>\n",
       "    </tr>\n",
       "  </thead>\n",
       "  <tbody>\n",
       "    <tr>\n",
       "      <th>0</th>\n",
       "      <td>rodillo</td>\n",
       "      <td>[[[200, 207, 204], [241, 248, 245], [147, 153,...</td>\n",
       "      <td>../dataset/images/rodillo/images_red/rodillo_3...</td>\n",
       "    </tr>\n",
       "    <tr>\n",
       "      <th>1</th>\n",
       "      <td>rodillo</td>\n",
       "      <td>[[[29, 34, 33], [38, 42, 43], [177, 178, 182],...</td>\n",
       "      <td>../dataset/images/rodillo/images_red/rodillo_7...</td>\n",
       "    </tr>\n",
       "    <tr>\n",
       "      <th>2</th>\n",
       "      <td>rodillo</td>\n",
       "      <td>[[[95, 132, 160], [99, 136, 164], [108, 141, 1...</td>\n",
       "      <td>../dataset/images/rodillo/images_red/rodillo85...</td>\n",
       "    </tr>\n",
       "    <tr>\n",
       "      <th>3</th>\n",
       "      <td>rodillo</td>\n",
       "      <td>[[[77, 80, 78], [80, 83, 81], [90, 90, 90], [8...</td>\n",
       "      <td>../dataset/images/rodillo/images_red/rodillo_2...</td>\n",
       "    </tr>\n",
       "    <tr>\n",
       "      <th>4</th>\n",
       "      <td>rodillo</td>\n",
       "      <td>[[[94, 98, 99], [97, 101, 102], [98, 102, 103]...</td>\n",
       "      <td>../dataset/images/rodillo/images_red/rodillo_1...</td>\n",
       "    </tr>\n",
       "  </tbody>\n",
       "</table>\n",
       "</div>"
      ],
      "text/plain": [
       "     label  ...                                               path\n",
       "0  rodillo  ...  ../dataset/images/rodillo/images_red/rodillo_3...\n",
       "1  rodillo  ...  ../dataset/images/rodillo/images_red/rodillo_7...\n",
       "2  rodillo  ...  ../dataset/images/rodillo/images_red/rodillo85...\n",
       "3  rodillo  ...  ../dataset/images/rodillo/images_red/rodillo_2...\n",
       "4  rodillo  ...  ../dataset/images/rodillo/images_red/rodillo_1...\n",
       "\n",
       "[5 rows x 3 columns]"
      ]
     },
     "execution_count": 35,
     "metadata": {
      "tags": []
     },
     "output_type": "execute_result"
    }
   ],
   "source": [
    "kitchenware.head()"
   ]
  },
  {
   "cell_type": "code",
   "execution_count": 0,
   "metadata": {
    "colab": {},
    "colab_type": "code",
    "id": "o-ZbuUyucnP9"
   },
   "outputs": [],
   "source": [
    "dummies = pd.get_dummies(kitchenware['label'])"
   ]
  },
  {
   "cell_type": "code",
   "execution_count": 37,
   "metadata": {
    "colab": {
     "base_uri": "https://localhost:8080/",
     "height": 206
    },
    "colab_type": "code",
    "id": "mgGI048Ccp86",
    "outputId": "12e01804-0b45-4553-e495-3299a1392fa7"
   },
   "outputs": [
    {
     "data": {
      "text/html": [
       "<div>\n",
       "<style scoped>\n",
       "    .dataframe tbody tr th:only-of-type {\n",
       "        vertical-align: middle;\n",
       "    }\n",
       "\n",
       "    .dataframe tbody tr th {\n",
       "        vertical-align: top;\n",
       "    }\n",
       "\n",
       "    .dataframe thead th {\n",
       "        text-align: right;\n",
       "    }\n",
       "</style>\n",
       "<table border=\"1\" class=\"dataframe\">\n",
       "  <thead>\n",
       "    <tr style=\"text-align: right;\">\n",
       "      <th></th>\n",
       "      <th>cuchara</th>\n",
       "      <th>cuchillo</th>\n",
       "      <th>cuenco</th>\n",
       "      <th>hervidor</th>\n",
       "      <th>otro</th>\n",
       "      <th>pelador</th>\n",
       "      <th>rodillo</th>\n",
       "      <th>tenedor</th>\n",
       "      <th>tostadora</th>\n",
       "      <th>vaso</th>\n",
       "    </tr>\n",
       "  </thead>\n",
       "  <tbody>\n",
       "    <tr>\n",
       "      <th>0</th>\n",
       "      <td>0</td>\n",
       "      <td>0</td>\n",
       "      <td>0</td>\n",
       "      <td>0</td>\n",
       "      <td>0</td>\n",
       "      <td>0</td>\n",
       "      <td>1</td>\n",
       "      <td>0</td>\n",
       "      <td>0</td>\n",
       "      <td>0</td>\n",
       "    </tr>\n",
       "    <tr>\n",
       "      <th>1</th>\n",
       "      <td>0</td>\n",
       "      <td>0</td>\n",
       "      <td>0</td>\n",
       "      <td>0</td>\n",
       "      <td>0</td>\n",
       "      <td>0</td>\n",
       "      <td>1</td>\n",
       "      <td>0</td>\n",
       "      <td>0</td>\n",
       "      <td>0</td>\n",
       "    </tr>\n",
       "    <tr>\n",
       "      <th>2</th>\n",
       "      <td>0</td>\n",
       "      <td>0</td>\n",
       "      <td>0</td>\n",
       "      <td>0</td>\n",
       "      <td>0</td>\n",
       "      <td>0</td>\n",
       "      <td>1</td>\n",
       "      <td>0</td>\n",
       "      <td>0</td>\n",
       "      <td>0</td>\n",
       "    </tr>\n",
       "    <tr>\n",
       "      <th>3</th>\n",
       "      <td>0</td>\n",
       "      <td>0</td>\n",
       "      <td>0</td>\n",
       "      <td>0</td>\n",
       "      <td>0</td>\n",
       "      <td>0</td>\n",
       "      <td>1</td>\n",
       "      <td>0</td>\n",
       "      <td>0</td>\n",
       "      <td>0</td>\n",
       "    </tr>\n",
       "    <tr>\n",
       "      <th>4</th>\n",
       "      <td>0</td>\n",
       "      <td>0</td>\n",
       "      <td>0</td>\n",
       "      <td>0</td>\n",
       "      <td>0</td>\n",
       "      <td>0</td>\n",
       "      <td>1</td>\n",
       "      <td>0</td>\n",
       "      <td>0</td>\n",
       "      <td>0</td>\n",
       "    </tr>\n",
       "  </tbody>\n",
       "</table>\n",
       "</div>"
      ],
      "text/plain": [
       "   cuchara  cuchillo  cuenco  hervidor  ...  rodillo  tenedor  tostadora  vaso\n",
       "0        0         0       0         0  ...        1        0          0     0\n",
       "1        0         0       0         0  ...        1        0          0     0\n",
       "2        0         0       0         0  ...        1        0          0     0\n",
       "3        0         0       0         0  ...        1        0          0     0\n",
       "4        0         0       0         0  ...        1        0          0     0\n",
       "\n",
       "[5 rows x 10 columns]"
      ]
     },
     "execution_count": 37,
     "metadata": {
      "tags": []
     },
     "output_type": "execute_result"
    }
   ],
   "source": [
    "dummies.head()"
   ]
  },
  {
   "cell_type": "code",
   "execution_count": 0,
   "metadata": {
    "colab": {},
    "colab_type": "code",
    "id": "nK5T-xvzcs5d"
   },
   "outputs": [],
   "source": [
    "dummies['gt'] = dummies.apply(lambda x: pd.Series([x.values]), axis=1)"
   ]
  },
  {
   "cell_type": "code",
   "execution_count": 39,
   "metadata": {
    "colab": {
     "base_uri": "https://localhost:8080/",
     "height": 293
    },
    "colab_type": "code",
    "id": "_IBQEzrqcvzO",
    "outputId": "f38cc7e7-9c1a-4e6d-a3f8-4572968bc380"
   },
   "outputs": [
    {
     "data": {
      "text/html": [
       "<div>\n",
       "<style scoped>\n",
       "    .dataframe tbody tr th:only-of-type {\n",
       "        vertical-align: middle;\n",
       "    }\n",
       "\n",
       "    .dataframe tbody tr th {\n",
       "        vertical-align: top;\n",
       "    }\n",
       "\n",
       "    .dataframe thead th {\n",
       "        text-align: right;\n",
       "    }\n",
       "</style>\n",
       "<table border=\"1\" class=\"dataframe\">\n",
       "  <thead>\n",
       "    <tr style=\"text-align: right;\">\n",
       "      <th></th>\n",
       "      <th>cuchara</th>\n",
       "      <th>cuchillo</th>\n",
       "      <th>cuenco</th>\n",
       "      <th>hervidor</th>\n",
       "      <th>otro</th>\n",
       "      <th>pelador</th>\n",
       "      <th>rodillo</th>\n",
       "      <th>tenedor</th>\n",
       "      <th>tostadora</th>\n",
       "      <th>vaso</th>\n",
       "      <th>gt</th>\n",
       "    </tr>\n",
       "  </thead>\n",
       "  <tbody>\n",
       "    <tr>\n",
       "      <th>0</th>\n",
       "      <td>0</td>\n",
       "      <td>0</td>\n",
       "      <td>0</td>\n",
       "      <td>0</td>\n",
       "      <td>0</td>\n",
       "      <td>0</td>\n",
       "      <td>1</td>\n",
       "      <td>0</td>\n",
       "      <td>0</td>\n",
       "      <td>0</td>\n",
       "      <td>[0, 0, 0, 0, 0, 0, 1, 0, 0, 0]</td>\n",
       "    </tr>\n",
       "    <tr>\n",
       "      <th>1</th>\n",
       "      <td>0</td>\n",
       "      <td>0</td>\n",
       "      <td>0</td>\n",
       "      <td>0</td>\n",
       "      <td>0</td>\n",
       "      <td>0</td>\n",
       "      <td>1</td>\n",
       "      <td>0</td>\n",
       "      <td>0</td>\n",
       "      <td>0</td>\n",
       "      <td>[0, 0, 0, 0, 0, 0, 1, 0, 0, 0]</td>\n",
       "    </tr>\n",
       "    <tr>\n",
       "      <th>2</th>\n",
       "      <td>0</td>\n",
       "      <td>0</td>\n",
       "      <td>0</td>\n",
       "      <td>0</td>\n",
       "      <td>0</td>\n",
       "      <td>0</td>\n",
       "      <td>1</td>\n",
       "      <td>0</td>\n",
       "      <td>0</td>\n",
       "      <td>0</td>\n",
       "      <td>[0, 0, 0, 0, 0, 0, 1, 0, 0, 0]</td>\n",
       "    </tr>\n",
       "    <tr>\n",
       "      <th>3</th>\n",
       "      <td>0</td>\n",
       "      <td>0</td>\n",
       "      <td>0</td>\n",
       "      <td>0</td>\n",
       "      <td>0</td>\n",
       "      <td>0</td>\n",
       "      <td>1</td>\n",
       "      <td>0</td>\n",
       "      <td>0</td>\n",
       "      <td>0</td>\n",
       "      <td>[0, 0, 0, 0, 0, 0, 1, 0, 0, 0]</td>\n",
       "    </tr>\n",
       "    <tr>\n",
       "      <th>4</th>\n",
       "      <td>0</td>\n",
       "      <td>0</td>\n",
       "      <td>0</td>\n",
       "      <td>0</td>\n",
       "      <td>0</td>\n",
       "      <td>0</td>\n",
       "      <td>1</td>\n",
       "      <td>0</td>\n",
       "      <td>0</td>\n",
       "      <td>0</td>\n",
       "      <td>[0, 0, 0, 0, 0, 0, 1, 0, 0, 0]</td>\n",
       "    </tr>\n",
       "  </tbody>\n",
       "</table>\n",
       "</div>"
      ],
      "text/plain": [
       "   cuchara  cuchillo  cuenco  ...  tostadora  vaso                              gt\n",
       "0        0         0       0  ...          0     0  [0, 0, 0, 0, 0, 0, 1, 0, 0, 0]\n",
       "1        0         0       0  ...          0     0  [0, 0, 0, 0, 0, 0, 1, 0, 0, 0]\n",
       "2        0         0       0  ...          0     0  [0, 0, 0, 0, 0, 0, 1, 0, 0, 0]\n",
       "3        0         0       0  ...          0     0  [0, 0, 0, 0, 0, 0, 1, 0, 0, 0]\n",
       "4        0         0       0  ...          0     0  [0, 0, 0, 0, 0, 0, 1, 0, 0, 0]\n",
       "\n",
       "[5 rows x 11 columns]"
      ]
     },
     "execution_count": 39,
     "metadata": {
      "tags": []
     },
     "output_type": "execute_result"
    }
   ],
   "source": [
    "dummies.head()"
   ]
  },
  {
   "cell_type": "code",
   "execution_count": 0,
   "metadata": {
    "colab": {},
    "colab_type": "code",
    "id": "z0Pf9iTFczmd"
   },
   "outputs": [],
   "source": [
    "X = np.stack(kitchenware['image'])\n",
    "y = np.stack(dummies['gt'])"
   ]
  },
  {
   "cell_type": "code",
   "execution_count": 48,
   "metadata": {
    "colab": {
     "base_uri": "https://localhost:8080/",
     "height": 52
    },
    "colab_type": "code",
    "id": "INwW_MOEc2V-",
    "outputId": "d1cf882b-e80f-44b7-a658-b876411fa3d3"
   },
   "outputs": [
    {
     "name": "stdout",
     "output_type": "stream",
     "text": [
      "(28448, 64, 64, 3)\n",
      "(28448, 10)\n"
     ]
    }
   ],
   "source": [
    "print(X.shape)\n",
    "print(y.shape)"
   ]
  },
  {
   "cell_type": "code",
   "execution_count": 0,
   "metadata": {
    "colab": {},
    "colab_type": "code",
    "id": "Cv-10Bspc5GL"
   },
   "outputs": [],
   "source": [
    "X_train, X_test, y_train, y_test = train_test_split(X, y, test_size=0.2)"
   ]
  },
  {
   "cell_type": "code",
   "execution_count": 50,
   "metadata": {
    "colab": {
     "base_uri": "https://localhost:8080/",
     "height": 86
    },
    "colab_type": "code",
    "id": "Gwb6ZeZnc7uy",
    "outputId": "7c232568-23bf-40ea-f94f-15973a617f1f"
   },
   "outputs": [
    {
     "name": "stdout",
     "output_type": "stream",
     "text": [
      "(22758, 64, 64, 3)\n",
      "(5690, 64, 64, 3)\n",
      "(22758, 10)\n",
      "(5690, 10)\n"
     ]
    }
   ],
   "source": [
    "print(X_train.shape)\n",
    "print(X_test.shape)\n",
    "print(y_train.shape)\n",
    "print(y_test.shape)"
   ]
  },
  {
   "cell_type": "code",
   "execution_count": 51,
   "metadata": {
    "colab": {
     "base_uri": "https://localhost:8080/",
     "height": 69
    },
    "colab_type": "code",
    "id": "E214Lq8xc9-j",
    "outputId": "81a7362c-5059-4795-d466-47570a3848ca"
   },
   "outputs": [
    {
     "name": "stdout",
     "output_type": "stream",
     "text": [
      "x_train shape: (22758, 64, 64, 3)\n",
      "22758 train samples\n",
      "5690 test samples\n"
     ]
    }
   ],
   "source": [
    "num_classes = 10\n",
    "img_rows = 64\n",
    "img_cols = 64\n",
    "\n",
    "# Incoming data is in uint8. Cast the input data images to be floats in range [0.0-1.0]  \n",
    "X_train = X_train.astype('float32') / 255\n",
    "X_test = X_test.astype('float32') / 255\n",
    "\n",
    "print('x_train shape:', X_train.shape)\n",
    "print(X_train.shape[0], 'train samples')\n",
    "print(X_test.shape[0], 'test samples')\n",
    "\n",
    "# convert class vectors to binary class matrices\n",
    "\n"
   ]
  },
  {
   "cell_type": "code",
   "execution_count": 52,
   "metadata": {
    "colab": {
     "base_uri": "https://localhost:8080/",
     "height": 1000
    },
    "colab_type": "code",
    "id": "9r-fenPjdBbI",
    "outputId": "02a5f90c-9d11-4aca-97d2-0933664b00c0"
   },
   "outputs": [
    {
     "name": "stdout",
     "output_type": "stream",
     "text": [
      "Model: \"sequential_9\"\n",
      "_________________________________________________________________\n",
      "Layer (type)                 Output Shape              Param #   \n",
      "=================================================================\n",
      "conv2d_37 (Conv2D)           (None, 64, 64, 32)        896       \n",
      "_________________________________________________________________\n",
      "activation_29 (Activation)   (None, 64, 64, 32)        0         \n",
      "_________________________________________________________________\n",
      "batch_normalization_35 (Batc (None, 64, 64, 32)        128       \n",
      "_________________________________________________________________\n",
      "max_pooling2d_20 (MaxPooling (None, 21, 21, 32)        0         \n",
      "_________________________________________________________________\n",
      "dropout_26 (Dropout)         (None, 21, 21, 32)        0         \n",
      "_________________________________________________________________\n",
      "conv2d_38 (Conv2D)           (None, 21, 21, 64)        18496     \n",
      "_________________________________________________________________\n",
      "activation_30 (Activation)   (None, 21, 21, 64)        0         \n",
      "_________________________________________________________________\n",
      "batch_normalization_36 (Batc (None, 21, 21, 64)        256       \n",
      "_________________________________________________________________\n",
      "conv2d_39 (Conv2D)           (None, 21, 21, 64)        36928     \n",
      "_________________________________________________________________\n",
      "activation_31 (Activation)   (None, 21, 21, 64)        0         \n",
      "_________________________________________________________________\n",
      "batch_normalization_37 (Batc (None, 21, 21, 64)        256       \n",
      "_________________________________________________________________\n",
      "max_pooling2d_21 (MaxPooling (None, 10, 10, 64)        0         \n",
      "_________________________________________________________________\n",
      "dropout_27 (Dropout)         (None, 10, 10, 64)        0         \n",
      "_________________________________________________________________\n",
      "conv2d_40 (Conv2D)           (None, 10, 10, 128)       73856     \n",
      "_________________________________________________________________\n",
      "activation_32 (Activation)   (None, 10, 10, 128)       0         \n",
      "_________________________________________________________________\n",
      "batch_normalization_38 (Batc (None, 10, 10, 128)       512       \n",
      "_________________________________________________________________\n",
      "conv2d_41 (Conv2D)           (None, 10, 10, 128)       147584    \n",
      "_________________________________________________________________\n",
      "activation_33 (Activation)   (None, 10, 10, 128)       0         \n",
      "_________________________________________________________________\n",
      "batch_normalization_39 (Batc (None, 10, 10, 128)       512       \n",
      "_________________________________________________________________\n",
      "max_pooling2d_22 (MaxPooling (None, 5, 5, 128)         0         \n",
      "_________________________________________________________________\n",
      "dropout_28 (Dropout)         (None, 5, 5, 128)         0         \n",
      "_________________________________________________________________\n",
      "flatten_7 (Flatten)          (None, 3200)              0         \n",
      "_________________________________________________________________\n",
      "dense_12 (Dense)             (None, 1024)              3277824   \n",
      "_________________________________________________________________\n",
      "activation_34 (Activation)   (None, 1024)              0         \n",
      "_________________________________________________________________\n",
      "batch_normalization_40 (Batc (None, 1024)              4096      \n",
      "_________________________________________________________________\n",
      "dropout_29 (Dropout)         (None, 1024)              0         \n",
      "_________________________________________________________________\n",
      "dense_13 (Dense)             (None, 10)                10250     \n",
      "_________________________________________________________________\n",
      "activation_35 (Activation)   (None, 10)                0         \n",
      "=================================================================\n",
      "Total params: 3,571,594\n",
      "Trainable params: 3,568,714\n",
      "Non-trainable params: 2,880\n",
      "_________________________________________________________________\n"
     ]
    }
   ],
   "source": [
    "model = Sequential()\n",
    "chanDim = -1\n",
    "\n",
    "if K.image_data_format() == \"channels_first\":\n",
    "    chanDim = 1\n",
    "model.add(Conv2D(32, (3, 3), padding=\"same\", input_shape=X_train.shape[1:]))\n",
    "model.add(Activation(\"relu\"))\n",
    "model.add(BatchNormalization(axis=chanDim))\n",
    "model.add(MaxPooling2D(pool_size=(3, 3)))\n",
    "model.add(Dropout(0.25))\n",
    "model.add(Conv2D(64, (3, 3), padding=\"same\"))\n",
    "model.add(Activation(\"relu\"))\n",
    "model.add(BatchNormalization(axis=chanDim))\n",
    "model.add(Conv2D(64, (3, 3), padding=\"same\"))\n",
    "model.add(Activation(\"relu\"))\n",
    "model.add(BatchNormalization(axis=chanDim))\n",
    "model.add(MaxPooling2D(pool_size=(2, 2)))\n",
    "model.add(Dropout(0.25))\n",
    "model.add(Conv2D(128, (3, 3), padding=\"same\"))\n",
    "model.add(Activation(\"relu\"))\n",
    "model.add(BatchNormalization(axis=chanDim))\n",
    "model.add(Conv2D(128, (3, 3), padding=\"same\"))\n",
    "model.add(Activation(\"relu\"))\n",
    "model.add(BatchNormalization(axis=chanDim))\n",
    "model.add(MaxPooling2D(pool_size=(2, 2)))\n",
    "model.add(Dropout(0.25))\n",
    "model.add(Flatten())\n",
    "model.add(Dense(1024))\n",
    "model.add(Activation(\"relu\"))\n",
    "model.add(BatchNormalization())\n",
    "model.add(Dropout(0.5))\n",
    "model.add(Dense(num_classes))\n",
    "model.add(Activation(\"softmax\"))\n",
    "\n",
    "model.summary()\n",
    "\n",
    "# CNN params\n",
    "\n",
    "EPOCHS = 18\n",
    "INIT_LR = 1e-3\n",
    "BS = 32\n",
    "opt = Adam(lr=INIT_LR, decay=INIT_LR / EPOCHS)\n",
    "\n",
    "#Training the model\n",
    "\n",
    "model.compile(loss='categorical_crossentropy',\n",
    "                optimizer=opt, metrics=['accuracy'])"
   ]
  },
  {
   "cell_type": "code",
   "execution_count": 53,
   "metadata": {
    "colab": {
     "base_uri": "https://localhost:8080/",
     "height": 732
    },
    "colab_type": "code",
    "id": "zICzW4VZdJLr",
    "outputId": "cd51ec8a-ab77-4063-b32c-c88f131581bf"
   },
   "outputs": [
    {
     "name": "stdout",
     "output_type": "stream",
     "text": [
      "CPU times: user 2 µs, sys: 0 ns, total: 2 µs\n",
      "Wall time: 5.96 µs\n",
      "Train on 22758 samples, validate on 5690 samples\n",
      "Epoch 1/18\n",
      "22758/22758 [==============================] - 13s 573us/step - loss: 0.3775 - acc: 0.8823 - val_loss: 0.0884 - val_acc: 0.9703\n",
      "Epoch 2/18\n",
      "22758/22758 [==============================] - 10s 455us/step - loss: 0.0852 - acc: 0.9710 - val_loss: 0.2301 - val_acc: 0.9494\n",
      "Epoch 3/18\n",
      "22758/22758 [==============================] - 10s 445us/step - loss: 0.0474 - acc: 0.9846 - val_loss: 0.2514 - val_acc: 0.9200\n",
      "Epoch 4/18\n",
      "22758/22758 [==============================] - 10s 458us/step - loss: 0.0568 - acc: 0.9824 - val_loss: 0.0731 - val_acc: 0.9703\n",
      "Epoch 5/18\n",
      "22758/22758 [==============================] - 10s 455us/step - loss: 0.0284 - acc: 0.9906 - val_loss: 0.0534 - val_acc: 0.9810\n",
      "Epoch 6/18\n",
      "22758/22758 [==============================] - 10s 445us/step - loss: 0.0346 - acc: 0.9883 - val_loss: 0.0315 - val_acc: 0.9889\n",
      "Epoch 7/18\n",
      "22758/22758 [==============================] - 11s 464us/step - loss: 0.0236 - acc: 0.9931 - val_loss: 0.0014 - val_acc: 0.9996\n",
      "Epoch 8/18\n",
      "22758/22758 [==============================] - 11s 467us/step - loss: 0.0317 - acc: 0.9902 - val_loss: 0.0109 - val_acc: 0.9967\n",
      "Epoch 9/18\n",
      "22758/22758 [==============================] - 11s 462us/step - loss: 0.0156 - acc: 0.9948 - val_loss: 0.0178 - val_acc: 0.9933\n",
      "Epoch 10/18\n",
      "22758/22758 [==============================] - 11s 502us/step - loss: 0.0165 - acc: 0.9942 - val_loss: 0.0016 - val_acc: 0.9995\n",
      "Epoch 11/18\n",
      "22758/22758 [==============================] - 11s 466us/step - loss: 0.0140 - acc: 0.9960 - val_loss: 0.0153 - val_acc: 0.9946\n",
      "Epoch 12/18\n",
      "22758/22758 [==============================] - 11s 467us/step - loss: 0.0124 - acc: 0.9964 - val_loss: 5.6223e-04 - val_acc: 0.9996\n",
      "Epoch 13/18\n",
      "22758/22758 [==============================] - 11s 467us/step - loss: 0.0173 - acc: 0.9960 - val_loss: 0.0116 - val_acc: 0.9965\n",
      "Epoch 14/18\n",
      "22758/22758 [==============================] - 10s 461us/step - loss: 0.0087 - acc: 0.9975 - val_loss: 0.1263 - val_acc: 0.9675\n",
      "Epoch 15/18\n",
      "22758/22758 [==============================] - 11s 466us/step - loss: 0.0177 - acc: 0.9943 - val_loss: 0.0028 - val_acc: 0.9989\n",
      "Epoch 16/18\n",
      "22758/22758 [==============================] - 11s 490us/step - loss: 0.0076 - acc: 0.9975 - val_loss: 2.9759e-04 - val_acc: 1.0000\n",
      "Epoch 17/18\n",
      "22758/22758 [==============================] - 11s 463us/step - loss: 0.0184 - acc: 0.9949 - val_loss: 2.2094e-04 - val_acc: 0.9998\n",
      "Epoch 18/18\n",
      "22758/22758 [==============================] - 11s 467us/step - loss: 0.0046 - acc: 0.9982 - val_loss: 8.0767e-05 - val_acc: 1.0000\n"
     ]
    },
    {
     "data": {
      "text/plain": [
       "<keras.callbacks.History at 0x7f1e551ca208>"
      ]
     },
     "execution_count": 53,
     "metadata": {
      "tags": []
     },
     "output_type": "execute_result"
    }
   ],
   "source": [
    "%time\n",
    "model.fit(X_train, y_train,\n",
    "        batch_size=BS,\n",
    "        epochs=EPOCHS,\n",
    "        verbose=1,\n",
    "        validation_data=(X_test, y_test))"
   ]
  },
  {
   "cell_type": "code",
   "execution_count": 54,
   "metadata": {
    "colab": {
     "base_uri": "https://localhost:8080/",
     "height": 52
    },
    "colab_type": "code",
    "id": "6hzYdH5xf-Gx",
    "outputId": "2aa4e881-f689-42f8-dcbd-1c5d46f4e4b8"
   },
   "outputs": [
    {
     "name": "stdout",
     "output_type": "stream",
     "text": [
      "Test loss: 8.076659626282146e-05\n",
      "Test accuracy: 1.0\n"
     ]
    }
   ],
   "source": [
    "score = model.evaluate(X_test, y_test, verbose=0)\n",
    "print('Test loss:', score[0])\n",
    "print('Test accuracy:', score[1])"
   ]
  },
  {
   "cell_type": "code",
   "execution_count": 0,
   "metadata": {
    "colab": {},
    "colab_type": "code",
    "id": "KMqkokRZl26z"
   },
   "outputs": [],
   "source": [
    "from keras.models import load_model \n",
    "model.save('second_model.h5')"
   ]
  },
  {
   "cell_type": "code",
   "execution_count": 0,
   "metadata": {
    "colab": {},
    "colab_type": "code",
    "id": "OUjH0mO4mN5e"
   },
   "outputs": [],
   "source": [
    "import json\n",
    "model_json = model.to_json()\n",
    "with open(\"second2_model.json\", \"w\") as json_file:\n",
    "    json_file.write(model_json)\n",
    "model.save_weights(\"second2_model.h5\")"
   ]
  },
  {
   "cell_type": "code",
   "execution_count": 0,
   "metadata": {
    "colab": {},
    "colab_type": "code",
    "id": "xPSrxNbKm-s2"
   },
   "outputs": [],
   "source": [
    "Y_pred = model.predict(X_test)"
   ]
  },
  {
   "cell_type": "code",
   "execution_count": 61,
   "metadata": {
    "colab": {
     "base_uri": "https://localhost:8080/",
     "height": 548
    },
    "colab_type": "code",
    "id": "SEMV3hSpdQEX",
    "outputId": "dcf01b58-cb06-4f8d-9601-ac45f9aa7f04"
   },
   "outputs": [
    {
     "name": "stdout",
     "output_type": "stream",
     "text": [
      "[8 8 8 ... 4 8 4]\n",
      "[8 8 8 ... 4 8 4]\n"
     ]
    },
    {
     "data": {
      "image/png": "[encoded data removed]",
      "text/plain": [
       "<Figure size 576x576 with 2 Axes>"
      ]
     },
     "metadata": {
      "tags": []
     },
     "output_type": "display_data"
    }
   ],
   "source": [
    "import matplotlib.pyplot as plt\n",
    "# Convert predictions classes to one hot vectors \n",
    "Y_pred_classes = np.argmax(Y_pred,axis = 1) \n",
    "# Convert validation observations to one hot vectors\n",
    "print(Y_pred_classes)\n",
    "Y_true = np.argmax(y_test,axis = 1)\n",
    "print(Y_true)\n",
    "# compute the confusion matrix\n",
    "cm = confusion_matrix(Y_true, Y_pred_classes)\n",
    "cm = cm.astype('float') / cm.sum(axis=1)[:, np.newaxis]\n",
    "# plot the confusion matrix\n",
    "f,ax = plt.subplots(figsize=(8, 8))\n",
    "sns.heatmap(cm, annot=True, linewidths=0.01,cmap=\"YlGnBu\",linecolor=\"gray\", fmt= '.1f',ax=ax)\n",
    "plt.xlabel(\"Predicted Label\")\n",
    "plt.ylabel(\"True Label\")\n",
    "plt.title(\"Confusion Matrix\")\n",
    "plt.show();"
   ]
  },
  {
   "cell_type": "code",
   "execution_count": 0,
   "metadata": {
    "colab": {},
    "colab_type": "code",
    "id": "FVglZCW3nHuw"
   },
   "outputs": [],
   "source": [
    "class_names = list(dummies.columns)[:-1]"
   ]
  },
  {
   "cell_type": "code",
   "execution_count": 63,
   "metadata": {
    "colab": {
     "base_uri": "https://localhost:8080/",
     "height": 494
    },
    "colab_type": "code",
    "id": "YszFR3IunU0w",
    "outputId": "f26f7a16-5076-4756-e3d0-13f8429f1f92"
   },
   "outputs": [
    {
     "name": "stdout",
     "output_type": "stream",
     "text": [
      "[1.1899862e-13 2.8069789e-14 1.8081693e-09 2.1650052e-15 3.5474973e-16\n",
      " 4.8162510e-13 4.7088815e-14 1.6399774e-11 1.0000000e+00 1.7579312e-09]\n",
      "cuchara: 0.0\n",
      "cuchillo: 0.0\n",
      "cuenco: 0.0\n",
      "hervidor: 0.0\n",
      "otro: 0.0\n",
      "pelador: 0.0\n",
      "rodillo: 0.0\n",
      "tenedor: 0.0\n",
      "tostadora: 1.0\n",
      "vaso: 0.0\n",
      "(1, 64, 64, 3)\n"
     ]
    },
    {
     "data": {
      "image/png": "[encoded data removed]",
      "text/plain": [
       "<Figure size 432x288 with 1 Axes>"
      ]
     },
     "metadata": {
      "tags": []
     },
     "output_type": "display_data"
    }
   ],
   "source": [
    "%matplotlib inline\n",
    "import matplotlib.pyplot as plt\n",
    "from PIL import Image\n",
    "\n",
    "img = X_test[150]\n",
    "pred = model.predict(np.expand_dims(img,axis=0))[0]\n",
    "print(pred)\n",
    "for obj in class_names:\n",
    "    print(f'{obj}: {round(pred[class_names.index(obj)],2)}')\n",
    "print(np.expand_dims(img,axis=0).shape)\n",
    "plt.imshow(img);"
   ]
  },
  {
   "cell_type": "code",
   "execution_count": 67,
   "metadata": {
    "colab": {
     "base_uri": "https://localhost:8080/",
     "height": 86
    },
    "colab_type": "code",
    "id": "Lqcu_f6VnXOP",
    "outputId": "ae45cb2c-6413-475e-e1f9-c97cac6f1894"
   },
   "outputs": [
    {
     "name": "stdout",
     "output_type": "stream",
     "text": [
      "(1984, 3968, 3)\n",
      "(64, 64, 3)\n",
      "<class 'numpy.ndarray'>\n",
      "(64, 64, 3)\n"
     ]
    }
   ],
   "source": [
    "import cv2\n",
    "a = cv2.imread('/content/drive/My Drive/cuenco.jpg')\n",
    "print(a.shape)\n",
    "a = cv2.resize(a,(64,64))\n",
    "print(a.shape)\n",
    "print(type(a))\n",
    "print(a.shape)\n",
    "a = a.astype('float32') / 255"
   ]
  },
  {
   "cell_type": "code",
   "execution_count": 68,
   "metadata": {
    "colab": {
     "base_uri": "https://localhost:8080/",
     "height": 494
    },
    "colab_type": "code",
    "id": "k5DFahlToDdG",
    "outputId": "faa20490-0e04-48ba-8c1a-fb7ac13989bb"
   },
   "outputs": [
    {
     "name": "stdout",
     "output_type": "stream",
     "text": [
      "[3.2768742e-07 8.4747938e-08 9.9994481e-01 1.0541127e-09 4.3965541e-05\n",
      " 2.6847160e-09 1.0745405e-05 3.1567442e-09 2.6105218e-09 1.1955467e-07]\n",
      "cuchara: 0.0\n",
      "cuchillo: 0.0\n",
      "cuenco: 1.0\n",
      "hervidor: 0.0\n",
      "otro: 0.0\n",
      "pelador: 0.0\n",
      "rodillo: 0.0\n",
      "tenedor: 0.0\n",
      "tostadora: 0.0\n",
      "vaso: 0.0\n",
      "(1, 64, 64, 3)\n"
     ]
    },
    {
     "data": {
      "image/png": "[encoded data removed]",
      "text/plain": [
       "<Figure size 432x288 with 1 Axes>"
      ]
     },
     "metadata": {
      "tags": []
     },
     "output_type": "display_data"
    }
   ],
   "source": [
    "%matplotlib inline\n",
    "import matplotlib.pyplot as plt\n",
    "from PIL import Image\n",
    "\n",
    "img = a\n",
    "pred = model.predict(np.expand_dims(img,axis=0))[0]\n",
    "print(pred)\n",
    "for obj in class_names:\n",
    "    print(f'{obj}: {round(pred[class_names.index(obj)],2)}')\n",
    "print(np.expand_dims(img,axis=0).shape)\n",
    "plt.imshow(img);"
   ]
  },
  {
   "cell_type": "code",
   "execution_count": 69,
   "metadata": {
    "colab": {
     "base_uri": "https://localhost:8080/",
     "height": 86
    },
    "colab_type": "code",
    "id": "BON0Ll3Uojk0",
    "outputId": "5d1e13aa-4489-4d1c-f217-170a08c8d7c2"
   },
   "outputs": [
    {
     "name": "stdout",
     "output_type": "stream",
     "text": [
      "(3968, 1984, 3)\n",
      "(64, 64, 3)\n",
      "<class 'numpy.ndarray'>\n",
      "(64, 64, 3)\n"
     ]
    }
   ],
   "source": [
    "import cv2\n",
    "a = cv2.imread('/content/drive/My Drive/cuchara.jpg')\n",
    "print(a.shape)\n",
    "a = cv2.resize(a,(64,64))\n",
    "print(a.shape)\n",
    "print(type(a))\n",
    "print(a.shape)\n",
    "a = a.astype('float32') / 255"
   ]
  },
  {
   "cell_type": "code",
   "execution_count": 70,
   "metadata": {
    "colab": {
     "base_uri": "https://localhost:8080/",
     "height": 494
    },
    "colab_type": "code",
    "id": "U63bV5_kozD5",
    "outputId": "3244beb5-68aa-4429-d258-84eb85c0d11b"
   },
   "outputs": [
    {
     "name": "stdout",
     "output_type": "stream",
     "text": [
      "[6.1763926e-18 1.7430844e-23 1.5466145e-17 3.2470852e-14 1.0000000e+00\n",
      " 1.7738814e-22 2.5175321e-22 8.0150721e-26 4.8040411e-16 1.6285312e-15]\n",
      "cuchara: 0.0\n",
      "cuchillo: 0.0\n",
      "cuenco: 0.0\n",
      "hervidor: 0.0\n",
      "otro: 1.0\n",
      "pelador: 0.0\n",
      "rodillo: 0.0\n",
      "tenedor: 0.0\n",
      "tostadora: 0.0\n",
      "vaso: 0.0\n",
      "(1, 64, 64, 3)\n"
     ]
    },
    {
     "data": {
      "image/png": "[encoded data removed]",
      "text/plain": [
       "<Figure size 432x288 with 1 Axes>"
      ]
     },
     "metadata": {
      "tags": []
     },
     "output_type": "display_data"
    }
   ],
   "source": [
    "%matplotlib inline\n",
    "import matplotlib.pyplot as plt\n",
    "from PIL import Image\n",
    "\n",
    "img = a\n",
    "pred = model.predict(np.expand_dims(img,axis=0))[0]\n",
    "print(pred)\n",
    "for obj in class_names:\n",
    "    print(f'{obj}: {round(pred[class_names.index(obj)],2)}')\n",
    "print(np.expand_dims(img,axis=0).shape)\n",
    "plt.imshow(img);"
   ]
  },
  {
   "cell_type": "code",
   "execution_count": 71,
   "metadata": {
    "colab": {
     "base_uri": "https://localhost:8080/",
     "height": 86
    },
    "colab_type": "code",
    "id": "qqDDZ4R_o1rJ",
    "outputId": "03fffc55-a5ec-41ee-f085-356029b7038b"
   },
   "outputs": [
    {
     "name": "stdout",
     "output_type": "stream",
     "text": [
      "(1984, 3968, 3)\n",
      "(64, 64, 3)\n",
      "<class 'numpy.ndarray'>\n",
      "(64, 64, 3)\n"
     ]
    }
   ],
   "source": [
    "import cv2\n",
    "a = cv2.imread('/content/drive/My Drive/pelador.jpg')\n",
    "print(a.shape)\n",
    "a = cv2.resize(a,(64,64))\n",
    "print(a.shape)\n",
    "print(type(a))\n",
    "print(a.shape)\n",
    "a = a.astype('float32') / 255"
   ]
  },
  {
   "cell_type": "code",
   "execution_count": 72,
   "metadata": {
    "colab": {
     "base_uri": "https://localhost:8080/",
     "height": 494
    },
    "colab_type": "code",
    "id": "Ae9Vj_lDo79D",
    "outputId": "448de2b8-6454-405d-ea5f-fc88ec9cdf06"
   },
   "outputs": [
    {
     "name": "stdout",
     "output_type": "stream",
     "text": [
      "[1.1915075e-02 1.6038273e-02 2.5451132e-05 2.3845028e-02 3.0477121e-01\n",
      " 4.2341790e-01 1.7936683e-01 2.2388498e-05 3.4978405e-02 5.6194412e-03]\n",
      "cuchara: 0.009999999776482582\n",
      "cuchillo: 0.019999999552965164\n",
      "cuenco: 0.0\n",
      "hervidor: 0.019999999552965164\n",
      "otro: 0.30000001192092896\n",
      "pelador: 0.41999998688697815\n",
      "rodillo: 0.18000000715255737\n",
      "tenedor: 0.0\n",
      "tostadora: 0.029999999329447746\n",
      "vaso: 0.009999999776482582\n",
      "(1, 64, 64, 3)\n"
     ]
    },
    {
     "data": {
      "image/png": "[encoded data removed]",
      "text/plain": [
       "<Figure size 432x288 with 1 Axes>"
      ]
     },
     "metadata": {
      "tags": []
     },
     "output_type": "display_data"
    }
   ],
   "source": [
    "%matplotlib inline\n",
    "import matplotlib.pyplot as plt\n",
    "from PIL import Image\n",
    "\n",
    "img = a\n",
    "pred = model.predict(np.expand_dims(img,axis=0))[0]\n",
    "print(pred)\n",
    "for obj in class_names:\n",
    "    print(f'{obj}: {round(pred[class_names.index(obj)],2)}')\n",
    "print(np.expand_dims(img,axis=0).shape)\n",
    "plt.imshow(img);"
   ]
  },
  {
   "cell_type": "code",
   "execution_count": 73,
   "metadata": {
    "colab": {
     "base_uri": "https://localhost:8080/",
     "height": 86
    },
    "colab_type": "code",
    "id": "yvPdjJrpo-EM",
    "outputId": "7bfe5800-6d97-411a-fa60-1cdbc68a7178"
   },
   "outputs": [
    {
     "name": "stdout",
     "output_type": "stream",
     "text": [
      "(1984, 3968, 3)\n",
      "(64, 64, 3)\n",
      "<class 'numpy.ndarray'>\n",
      "(64, 64, 3)\n"
     ]
    }
   ],
   "source": [
    "a = cv2.imread('/content/drive/My Drive/cuchillo.jpg')\n",
    "print(a.shape)\n",
    "a = cv2.resize(a,(64,64))\n",
    "print(a.shape)\n",
    "print(type(a))\n",
    "print(a.shape)\n",
    "a = a.astype('float32') / 255"
   ]
  },
  {
   "cell_type": "code",
   "execution_count": 74,
   "metadata": {
    "colab": {
     "base_uri": "https://localhost:8080/",
     "height": 494
    },
    "colab_type": "code",
    "id": "3wsxDk0rpJvt",
    "outputId": "856ffac0-5931-4a37-dc4a-3e32cc2df498"
   },
   "outputs": [
    {
     "name": "stdout",
     "output_type": "stream",
     "text": [
      "[6.9220512e-08 5.2897536e-07 2.3332888e-07 5.9151205e-07 1.7532318e-05\n",
      " 1.7819687e-13 8.7897999e-05 3.7851766e-10 5.0535971e-05 9.9984264e-01]\n",
      "cuchara: 0.0\n",
      "cuchillo: 0.0\n",
      "cuenco: 0.0\n",
      "hervidor: 0.0\n",
      "otro: 0.0\n",
      "pelador: 0.0\n",
      "rodillo: 0.0\n",
      "tenedor: 0.0\n",
      "tostadora: 0.0\n",
      "vaso: 1.0\n",
      "(1, 64, 64, 3)\n"
     ]
    },
    {
     "data": {
      "image/png": "[encoded data removed]",
      "text/plain": [
       "<Figure size 432x288 with 1 Axes>"
      ]
     },
     "metadata": {
      "tags": []
     },
     "output_type": "display_data"
    }
   ],
   "source": [
    "%matplotlib inline\n",
    "import matplotlib.pyplot as plt\n",
    "from PIL import Image\n",
    "\n",
    "img = a\n",
    "pred = model.predict(np.expand_dims(img,axis=0))[0]\n",
    "print(pred)\n",
    "for obj in class_names:\n",
    "    print(f'{obj}: {round(pred[class_names.index(obj)],2)}')\n",
    "print(np.expand_dims(img,axis=0).shape)\n",
    "plt.imshow(img);"
   ]
  },
  {
   "cell_type": "code",
   "execution_count": 75,
   "metadata": {
    "colab": {
     "base_uri": "https://localhost:8080/",
     "height": 86
    },
    "colab_type": "code",
    "id": "9GYkj7hlpL7h",
    "outputId": "2271ae35-504d-40d4-c585-7a91ecf5db6b"
   },
   "outputs": [
    {
     "name": "stdout",
     "output_type": "stream",
     "text": [
      "(1984, 3968, 3)\n",
      "(64, 64, 3)\n",
      "<class 'numpy.ndarray'>\n",
      "(64, 64, 3)\n"
     ]
    }
   ],
   "source": [
    "a = cv2.imread('/content/drive/My Drive/cuenco2.jpg')\n",
    "print(a.shape)\n",
    "a = cv2.resize(a,(64,64))\n",
    "print(a.shape)\n",
    "print(type(a))\n",
    "print(a.shape)\n",
    "a = a.astype('float32') / 255"
   ]
  },
  {
   "cell_type": "code",
   "execution_count": 76,
   "metadata": {
    "colab": {
     "base_uri": "https://localhost:8080/",
     "height": 494
    },
    "colab_type": "code",
    "id": "_9Pq3UqMpSNF",
    "outputId": "703f6319-f5cb-430c-9479-62db385089fe"
   },
   "outputs": [
    {
     "name": "stdout",
     "output_type": "stream",
     "text": [
      "[2.7130500e-06 4.2354324e-09 3.7527473e-03 1.9497367e-05 3.0959884e-05\n",
      " 1.8739459e-09 1.2976623e-10 3.2027546e-07 1.9227683e-07 9.9619353e-01]\n",
      "cuchara: 0.0\n",
      "cuchillo: 0.0\n",
      "cuenco: 0.0\n",
      "hervidor: 0.0\n",
      "otro: 0.0\n",
      "pelador: 0.0\n",
      "rodillo: 0.0\n",
      "tenedor: 0.0\n",
      "tostadora: 0.0\n",
      "vaso: 1.0\n",
      "(1, 64, 64, 3)\n"
     ]
    },
    {
     "data": {
      "image/png": "[encoded data removed]",
      "text/plain": [
       "<Figure size 432x288 with 1 Axes>"
      ]
     },
     "metadata": {
      "tags": []
     },
     "output_type": "display_data"
    }
   ],
   "source": [
    "%matplotlib inline\n",
    "import matplotlib.pyplot as plt\n",
    "from PIL import Image\n",
    "\n",
    "img = a\n",
    "pred = model.predict(np.expand_dims(img,axis=0))[0]\n",
    "print(pred)\n",
    "for obj in class_names:\n",
    "    print(f'{obj}: {round(pred[class_names.index(obj)],2)}')\n",
    "print(np.expand_dims(img,axis=0).shape)\n",
    "plt.imshow(img);"
   ]
  }
 ],
 "metadata": {
  "accelerator": "GPU",
  "colab": {
   "collapsed_sections": [],
   "name": "Copy of Untitled",
   "provenance": []
  },
  "kernelspec": {
   "display_name": "Python 3",
   "language": "python",
   "name": "python3"
  },
  "language_info": {
   "codemirror_mode": {
    "name": "ipython",
    "version": 3
   },
   "file_extension": ".py",
   "mimetype": "text/x-python",
   "name": "python",
   "nbconvert_exporter": "python",
   "pygments_lexer": "ipython3",
   "version": "3.6.9"
  }
 },
 "nbformat": 4,
 "nbformat_minor": 1
}
