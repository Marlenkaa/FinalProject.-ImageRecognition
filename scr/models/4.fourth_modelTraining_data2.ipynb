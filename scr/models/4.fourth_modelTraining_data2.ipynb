{
 "cells": [
  {
   "cell_type": "code",
   "execution_count": 0,
   "metadata": {
    "colab": {},
    "colab_type": "code",
    "id": "outn-DnH00f1"
   },
   "outputs": [],
   "source": [
    "import keras\n",
    "from keras.models import Sequential\n",
    "from keras.layers import Dense, Dropout, Flatten\n",
    "from keras.layers import Conv2D, MaxPooling2D\n",
    "from keras import backend as K\n",
    "import pandas as pd\n",
    "import numpy as np\n",
    "import pickle\n",
    "from sklearn.model_selection import train_test_split\n",
    "from keras.layers.normalization import BatchNormalization\n",
    "from keras.optimizers import Adam\n",
    "from keras.layers.core import Activation, Flatten, Dropout, Dense\n",
    "from sklearn.metrics import confusion_matrix\n",
    "import seaborn as sns\n",
    "import cv2\n",
    "import matplotlib.pyplot as plt\n",
    "from PIL import Image\n",
    "import livelossplot"
   ]
  },
  {
   "cell_type": "markdown",
   "metadata": {
    "colab_type": "text",
    "id": "HpDMVhE-aEP_"
   },
   "source": [
    "Cargamos el dataset creado con todos los frames"
   ]
  },
  {
   "cell_type": "code",
   "execution_count": 145,
   "metadata": {
    "colab": {
     "base_uri": "https://localhost:8080/",
     "height": 34
    },
    "colab_type": "code",
    "id": "jh_EEIBn7yjI",
    "outputId": "10b4d4c0-b444-4554-fe29-dc46d5b1cb68"
   },
   "outputs": [
    {
     "data": {
      "text/plain": [
       "(17644, 3)"
      ]
     },
     "execution_count": 145,
     "metadata": {
      "tags": []
     },
     "output_type": "execute_result"
    }
   ],
   "source": [
    "kitchenware = pickle.load(open('/content/drive/My Drive/Proyecto/dataset/training_dataset_2.pkl', 'rb'))\n",
    "kitchenware.values.shape"
   ]
  },
  {
   "cell_type": "code",
   "execution_count": 146,
   "metadata": {
    "colab": {
     "base_uri": "https://localhost:8080/",
     "height": 206
    },
    "colab_type": "code",
    "id": "FZu9wwrO1YtQ",
    "outputId": "75d8b73b-c2f7-4fa9-85e5-29907ed490e7"
   },
   "outputs": [
    {
     "data": {
      "text/html": [
       "<div>\n",
       "<style scoped>\n",
       "    .dataframe tbody tr th:only-of-type {\n",
       "        vertical-align: middle;\n",
       "    }\n",
       "\n",
       "    .dataframe tbody tr th {\n",
       "        vertical-align: top;\n",
       "    }\n",
       "\n",
       "    .dataframe thead th {\n",
       "        text-align: right;\n",
       "    }\n",
       "</style>\n",
       "<table border=\"1\" class=\"dataframe\">\n",
       "  <thead>\n",
       "    <tr style=\"text-align: right;\">\n",
       "      <th></th>\n",
       "      <th>label</th>\n",
       "      <th>image</th>\n",
       "      <th>path</th>\n",
       "    </tr>\n",
       "  </thead>\n",
       "  <tbody>\n",
       "    <tr>\n",
       "      <th>0</th>\n",
       "      <td>ruido</td>\n",
       "      <td>[[[91, 148, 193], [103, 159, 206], [108, 164, ...</td>\n",
       "      <td>../../INPUT/images/ruido/ruido201.jpg</td>\n",
       "    </tr>\n",
       "    <tr>\n",
       "      <th>1</th>\n",
       "      <td>ruido</td>\n",
       "      <td>[[[249, 254, 255], [250, 255, 255], [237, 242,...</td>\n",
       "      <td>../../INPUT/images/ruido/ruido979.jpg</td>\n",
       "    </tr>\n",
       "    <tr>\n",
       "      <th>2</th>\n",
       "      <td>ruido</td>\n",
       "      <td>[[[7, 2, 1], [5, 0, 0], [5, 1, 0], [6, 2, 1], ...</td>\n",
       "      <td>../../INPUT/images/ruido/ruido884.jpg</td>\n",
       "    </tr>\n",
       "    <tr>\n",
       "      <th>3</th>\n",
       "      <td>ruido</td>\n",
       "      <td>[[[218, 219, 210], [218, 217, 207], [223, 221,...</td>\n",
       "      <td>../../INPUT/images/ruido/ruido1027.jpg</td>\n",
       "    </tr>\n",
       "    <tr>\n",
       "      <th>4</th>\n",
       "      <td>ruido</td>\n",
       "      <td>[[[26, 25, 34], [33, 33, 39], [28, 28, 34], [1...</td>\n",
       "      <td>../../INPUT/images/ruido/ruido530.jpg</td>\n",
       "    </tr>\n",
       "  </tbody>\n",
       "</table>\n",
       "</div>"
      ],
      "text/plain": [
       "   label  ...                                    path\n",
       "0  ruido  ...   ../../INPUT/images/ruido/ruido201.jpg\n",
       "1  ruido  ...   ../../INPUT/images/ruido/ruido979.jpg\n",
       "2  ruido  ...   ../../INPUT/images/ruido/ruido884.jpg\n",
       "3  ruido  ...  ../../INPUT/images/ruido/ruido1027.jpg\n",
       "4  ruido  ...   ../../INPUT/images/ruido/ruido530.jpg\n",
       "\n",
       "[5 rows x 3 columns]"
      ]
     },
     "execution_count": 146,
     "metadata": {
      "tags": []
     },
     "output_type": "execute_result"
    }
   ],
   "source": [
    "kitchenware.head()"
   ]
  },
  {
   "cell_type": "markdown",
   "metadata": {
    "colab_type": "text",
    "id": "hvmuE9PhaNRG"
   },
   "source": [
    "Haces un dummies de las etiquetas para crear un vector y obtener así el porcentaje de prediccióón por objeto"
   ]
  },
  {
   "cell_type": "code",
   "execution_count": 0,
   "metadata": {
    "colab": {},
    "colab_type": "code",
    "id": "o-ZbuUyucnP9"
   },
   "outputs": [],
   "source": [
    "dummies = pd.get_dummies(kitchenware['label'])"
   ]
  },
  {
   "cell_type": "code",
   "execution_count": 148,
   "metadata": {
    "colab": {
     "base_uri": "https://localhost:8080/",
     "height": 206
    },
    "colab_type": "code",
    "id": "mgGI048Ccp86",
    "outputId": "8e7e990c-f906-4e76-9a66-4182ed93c521"
   },
   "outputs": [
    {
     "data": {
      "text/html": [
       "<div>\n",
       "<style scoped>\n",
       "    .dataframe tbody tr th:only-of-type {\n",
       "        vertical-align: middle;\n",
       "    }\n",
       "\n",
       "    .dataframe tbody tr th {\n",
       "        vertical-align: top;\n",
       "    }\n",
       "\n",
       "    .dataframe thead th {\n",
       "        text-align: right;\n",
       "    }\n",
       "</style>\n",
       "<table border=\"1\" class=\"dataframe\">\n",
       "  <thead>\n",
       "    <tr style=\"text-align: right;\">\n",
       "      <th></th>\n",
       "      <th>cuchara</th>\n",
       "      <th>cuchillo</th>\n",
       "      <th>cuenco</th>\n",
       "      <th>hervidor</th>\n",
       "      <th>pelador</th>\n",
       "      <th>ruido</th>\n",
       "      <th>sarten</th>\n",
       "      <th>taza</th>\n",
       "      <th>tenedor</th>\n",
       "      <th>tostadora</th>\n",
       "    </tr>\n",
       "  </thead>\n",
       "  <tbody>\n",
       "    <tr>\n",
       "      <th>0</th>\n",
       "      <td>0</td>\n",
       "      <td>0</td>\n",
       "      <td>0</td>\n",
       "      <td>0</td>\n",
       "      <td>0</td>\n",
       "      <td>1</td>\n",
       "      <td>0</td>\n",
       "      <td>0</td>\n",
       "      <td>0</td>\n",
       "      <td>0</td>\n",
       "    </tr>\n",
       "    <tr>\n",
       "      <th>1</th>\n",
       "      <td>0</td>\n",
       "      <td>0</td>\n",
       "      <td>0</td>\n",
       "      <td>0</td>\n",
       "      <td>0</td>\n",
       "      <td>1</td>\n",
       "      <td>0</td>\n",
       "      <td>0</td>\n",
       "      <td>0</td>\n",
       "      <td>0</td>\n",
       "    </tr>\n",
       "    <tr>\n",
       "      <th>2</th>\n",
       "      <td>0</td>\n",
       "      <td>0</td>\n",
       "      <td>0</td>\n",
       "      <td>0</td>\n",
       "      <td>0</td>\n",
       "      <td>1</td>\n",
       "      <td>0</td>\n",
       "      <td>0</td>\n",
       "      <td>0</td>\n",
       "      <td>0</td>\n",
       "    </tr>\n",
       "    <tr>\n",
       "      <th>3</th>\n",
       "      <td>0</td>\n",
       "      <td>0</td>\n",
       "      <td>0</td>\n",
       "      <td>0</td>\n",
       "      <td>0</td>\n",
       "      <td>1</td>\n",
       "      <td>0</td>\n",
       "      <td>0</td>\n",
       "      <td>0</td>\n",
       "      <td>0</td>\n",
       "    </tr>\n",
       "    <tr>\n",
       "      <th>4</th>\n",
       "      <td>0</td>\n",
       "      <td>0</td>\n",
       "      <td>0</td>\n",
       "      <td>0</td>\n",
       "      <td>0</td>\n",
       "      <td>1</td>\n",
       "      <td>0</td>\n",
       "      <td>0</td>\n",
       "      <td>0</td>\n",
       "      <td>0</td>\n",
       "    </tr>\n",
       "  </tbody>\n",
       "</table>\n",
       "</div>"
      ],
      "text/plain": [
       "   cuchara  cuchillo  cuenco  hervidor  ...  sarten  taza  tenedor  tostadora\n",
       "0        0         0       0         0  ...       0     0        0          0\n",
       "1        0         0       0         0  ...       0     0        0          0\n",
       "2        0         0       0         0  ...       0     0        0          0\n",
       "3        0         0       0         0  ...       0     0        0          0\n",
       "4        0         0       0         0  ...       0     0        0          0\n",
       "\n",
       "[5 rows x 10 columns]"
      ]
     },
     "execution_count": 148,
     "metadata": {
      "tags": []
     },
     "output_type": "execute_result"
    }
   ],
   "source": [
    "dummies.head()"
   ]
  },
  {
   "cell_type": "code",
   "execution_count": 0,
   "metadata": {
    "colab": {},
    "colab_type": "code",
    "id": "nK5T-xvzcs5d"
   },
   "outputs": [],
   "source": [
    "dummies['gt'] = dummies.apply(lambda x: pd.Series([x.values]), axis=1)"
   ]
  },
  {
   "cell_type": "code",
   "execution_count": 150,
   "metadata": {
    "colab": {
     "base_uri": "https://localhost:8080/",
     "height": 293
    },
    "colab_type": "code",
    "id": "_IBQEzrqcvzO",
    "outputId": "4b78c74c-f418-4239-e1f4-7a1a9c6ac565"
   },
   "outputs": [
    {
     "data": {
      "text/html": [
       "<div>\n",
       "<style scoped>\n",
       "    .dataframe tbody tr th:only-of-type {\n",
       "        vertical-align: middle;\n",
       "    }\n",
       "\n",
       "    .dataframe tbody tr th {\n",
       "        vertical-align: top;\n",
       "    }\n",
       "\n",
       "    .dataframe thead th {\n",
       "        text-align: right;\n",
       "    }\n",
       "</style>\n",
       "<table border=\"1\" class=\"dataframe\">\n",
       "  <thead>\n",
       "    <tr style=\"text-align: right;\">\n",
       "      <th></th>\n",
       "      <th>cuchara</th>\n",
       "      <th>cuchillo</th>\n",
       "      <th>cuenco</th>\n",
       "      <th>hervidor</th>\n",
       "      <th>pelador</th>\n",
       "      <th>ruido</th>\n",
       "      <th>sarten</th>\n",
       "      <th>taza</th>\n",
       "      <th>tenedor</th>\n",
       "      <th>tostadora</th>\n",
       "      <th>gt</th>\n",
       "    </tr>\n",
       "  </thead>\n",
       "  <tbody>\n",
       "    <tr>\n",
       "      <th>0</th>\n",
       "      <td>0</td>\n",
       "      <td>0</td>\n",
       "      <td>0</td>\n",
       "      <td>0</td>\n",
       "      <td>0</td>\n",
       "      <td>1</td>\n",
       "      <td>0</td>\n",
       "      <td>0</td>\n",
       "      <td>0</td>\n",
       "      <td>0</td>\n",
       "      <td>[0, 0, 0, 0, 0, 1, 0, 0, 0, 0]</td>\n",
       "    </tr>\n",
       "    <tr>\n",
       "      <th>1</th>\n",
       "      <td>0</td>\n",
       "      <td>0</td>\n",
       "      <td>0</td>\n",
       "      <td>0</td>\n",
       "      <td>0</td>\n",
       "      <td>1</td>\n",
       "      <td>0</td>\n",
       "      <td>0</td>\n",
       "      <td>0</td>\n",
       "      <td>0</td>\n",
       "      <td>[0, 0, 0, 0, 0, 1, 0, 0, 0, 0]</td>\n",
       "    </tr>\n",
       "    <tr>\n",
       "      <th>2</th>\n",
       "      <td>0</td>\n",
       "      <td>0</td>\n",
       "      <td>0</td>\n",
       "      <td>0</td>\n",
       "      <td>0</td>\n",
       "      <td>1</td>\n",
       "      <td>0</td>\n",
       "      <td>0</td>\n",
       "      <td>0</td>\n",
       "      <td>0</td>\n",
       "      <td>[0, 0, 0, 0, 0, 1, 0, 0, 0, 0]</td>\n",
       "    </tr>\n",
       "    <tr>\n",
       "      <th>3</th>\n",
       "      <td>0</td>\n",
       "      <td>0</td>\n",
       "      <td>0</td>\n",
       "      <td>0</td>\n",
       "      <td>0</td>\n",
       "      <td>1</td>\n",
       "      <td>0</td>\n",
       "      <td>0</td>\n",
       "      <td>0</td>\n",
       "      <td>0</td>\n",
       "      <td>[0, 0, 0, 0, 0, 1, 0, 0, 0, 0]</td>\n",
       "    </tr>\n",
       "    <tr>\n",
       "      <th>4</th>\n",
       "      <td>0</td>\n",
       "      <td>0</td>\n",
       "      <td>0</td>\n",
       "      <td>0</td>\n",
       "      <td>0</td>\n",
       "      <td>1</td>\n",
       "      <td>0</td>\n",
       "      <td>0</td>\n",
       "      <td>0</td>\n",
       "      <td>0</td>\n",
       "      <td>[0, 0, 0, 0, 0, 1, 0, 0, 0, 0]</td>\n",
       "    </tr>\n",
       "  </tbody>\n",
       "</table>\n",
       "</div>"
      ],
      "text/plain": [
       "   cuchara  cuchillo  ...  tostadora                              gt\n",
       "0        0         0  ...          0  [0, 0, 0, 0, 0, 1, 0, 0, 0, 0]\n",
       "1        0         0  ...          0  [0, 0, 0, 0, 0, 1, 0, 0, 0, 0]\n",
       "2        0         0  ...          0  [0, 0, 0, 0, 0, 1, 0, 0, 0, 0]\n",
       "3        0         0  ...          0  [0, 0, 0, 0, 0, 1, 0, 0, 0, 0]\n",
       "4        0         0  ...          0  [0, 0, 0, 0, 0, 1, 0, 0, 0, 0]\n",
       "\n",
       "[5 rows x 11 columns]"
      ]
     },
     "execution_count": 150,
     "metadata": {
      "tags": []
     },
     "output_type": "execute_result"
    }
   ],
   "source": [
    "dummies.head()"
   ]
  },
  {
   "cell_type": "markdown",
   "metadata": {
    "colab_type": "text",
    "id": "gO0dh66RadlF"
   },
   "source": [
    "Asignamos las variables a X e y para entrenar al modelo"
   ]
  },
  {
   "cell_type": "code",
   "execution_count": 0,
   "metadata": {
    "colab": {},
    "colab_type": "code",
    "id": "z0Pf9iTFczmd"
   },
   "outputs": [],
   "source": [
    "X = np.stack(kitchenware['image'])\n",
    "y = np.stack(dummies['gt'])"
   ]
  },
  {
   "cell_type": "code",
   "execution_count": 237,
   "metadata": {
    "colab": {
     "base_uri": "https://localhost:8080/",
     "height": 52
    },
    "colab_type": "code",
    "id": "INwW_MOEc2V-",
    "outputId": "03e5a3c6-a6b4-4c26-c665-cd689db57345"
   },
   "outputs": [
    {
     "name": "stdout",
     "output_type": "stream",
     "text": [
      "(17644, 64, 64, 3)\n",
      "(17644, 10)\n"
     ]
    }
   ],
   "source": [
    "print(X.shape)\n",
    "print(y.shape)"
   ]
  },
  {
   "cell_type": "markdown",
   "metadata": {
    "colab_type": "text",
    "id": "fc8JsUpBanjH"
   },
   "source": [
    "Dividimos los datos en train y test"
   ]
  },
  {
   "cell_type": "code",
   "execution_count": 0,
   "metadata": {
    "colab": {},
    "colab_type": "code",
    "id": "Cv-10Bspc5GL"
   },
   "outputs": [],
   "source": [
    "X_train, X_test, y_train, y_test = train_test_split(X, y, test_size=0.2, random_state=42)"
   ]
  },
  {
   "cell_type": "code",
   "execution_count": 239,
   "metadata": {
    "colab": {
     "base_uri": "https://localhost:8080/",
     "height": 86
    },
    "colab_type": "code",
    "id": "Gwb6ZeZnc7uy",
    "outputId": "e2de5d55-ed7b-4de6-ef27-c4ae2ee41d52"
   },
   "outputs": [
    {
     "name": "stdout",
     "output_type": "stream",
     "text": [
      "(14115, 64, 64, 3)\n",
      "(3529, 64, 64, 3)\n",
      "(14115, 10)\n",
      "(3529, 10)\n"
     ]
    }
   ],
   "source": [
    "print(X_train.shape)\n",
    "print(X_test.shape)\n",
    "print(y_train.shape)\n",
    "print(y_test.shape)"
   ]
  },
  {
   "cell_type": "markdown",
   "metadata": {
    "colab_type": "text",
    "id": "nDI06q1yasgN"
   },
   "source": [
    "Ajustamos los datos de las X (frame arrays)"
   ]
  },
  {
   "cell_type": "code",
   "execution_count": 240,
   "metadata": {
    "colab": {
     "base_uri": "https://localhost:8080/",
     "height": 139
    },
    "colab_type": "code",
    "id": "E214Lq8xc9-j",
    "outputId": "391bc421-2af3-4c00-eab8-cd10739039f3"
   },
   "outputs": [
    {
     "name": "stdout",
     "output_type": "stream",
     "text": [
      "x_train shape: (14115, 64, 64, 3)\n",
      "14115 train samples\n",
      "3529 test samples\n",
      "(14115, 64, 64, 3)\n",
      "(3529, 64, 64, 3)\n",
      "(14115, 10)\n",
      "(3529, 10)\n"
     ]
    }
   ],
   "source": [
    "# Incoming data is in uint8. Cast the input data images to be floats in range [0.0-1.0]  \n",
    "X_train = X_train.reshape((X_train.shape[0],64,64,3))\n",
    "X_train = X_train.astype('float32') / 255\n",
    "X_test = X_test.reshape((X_test.shape[0],64,64,3))\n",
    "X_test = X_test.astype('float32') / 255\n",
    "\n",
    "print('x_train shape:', X_train.shape)\n",
    "print(X_train.shape[0], 'train samples')\n",
    "print(X_test.shape[0], 'test samples')\n",
    "\n",
    "print(X_train.shape)\n",
    "print(X_test.shape)\n",
    "print(y_train.shape)\n",
    "print(y_test.shape)"
   ]
  },
  {
   "cell_type": "markdown",
   "metadata": {
    "colab_type": "text",
    "id": "fVQm09jDbAKh"
   },
   "source": [
    "Definimos el modelo"
   ]
  },
  {
   "cell_type": "code",
   "execution_count": 258,
   "metadata": {
    "colab": {
     "base_uri": "https://localhost:8080/",
     "height": 1000
    },
    "colab_type": "code",
    "id": "9r-fenPjdBbI",
    "outputId": "cfca19ae-20b0-49e6-9053-e86d027cbc29"
   },
   "outputs": [
    {
     "name": "stdout",
     "output_type": "stream",
     "text": [
      "Model: \"sequential_24\"\n",
      "_________________________________________________________________\n",
      "Layer (type)                 Output Shape              Param #   \n",
      "=================================================================\n",
      "conv2d_38 (Conv2D)           (None, 64, 64, 32)        896       \n",
      "_________________________________________________________________\n",
      "activation_48 (Activation)   (None, 64, 64, 32)        0         \n",
      "_________________________________________________________________\n",
      "batch_normalization_43 (Batc (None, 64, 64, 32)        128       \n",
      "_________________________________________________________________\n",
      "max_pooling2d_23 (MaxPooling (None, 21, 21, 32)        0         \n",
      "_________________________________________________________________\n",
      "dropout_55 (Dropout)         (None, 21, 21, 32)        0         \n",
      "_________________________________________________________________\n",
      "conv2d_39 (Conv2D)           (None, 21, 21, 64)        18496     \n",
      "_________________________________________________________________\n",
      "activation_49 (Activation)   (None, 21, 21, 64)        0         \n",
      "_________________________________________________________________\n",
      "batch_normalization_44 (Batc (None, 21, 21, 64)        256       \n",
      "_________________________________________________________________\n",
      "conv2d_40 (Conv2D)           (None, 21, 21, 64)        36928     \n",
      "_________________________________________________________________\n",
      "activation_50 (Activation)   (None, 21, 21, 64)        0         \n",
      "_________________________________________________________________\n",
      "batch_normalization_45 (Batc (None, 21, 21, 64)        256       \n",
      "_________________________________________________________________\n",
      "max_pooling2d_24 (MaxPooling (None, 10, 10, 64)        0         \n",
      "_________________________________________________________________\n",
      "dropout_56 (Dropout)         (None, 10, 10, 64)        0         \n",
      "_________________________________________________________________\n",
      "conv2d_41 (Conv2D)           (None, 10, 10, 128)       73856     \n",
      "_________________________________________________________________\n",
      "activation_51 (Activation)   (None, 10, 10, 128)       0         \n",
      "_________________________________________________________________\n",
      "batch_normalization_46 (Batc (None, 10, 10, 128)       512       \n",
      "_________________________________________________________________\n",
      "conv2d_42 (Conv2D)           (None, 10, 10, 128)       147584    \n",
      "_________________________________________________________________\n",
      "activation_52 (Activation)   (None, 10, 10, 128)       0         \n",
      "_________________________________________________________________\n",
      "batch_normalization_47 (Batc (None, 10, 10, 128)       512       \n",
      "_________________________________________________________________\n",
      "max_pooling2d_25 (MaxPooling (None, 5, 5, 128)         0         \n",
      "_________________________________________________________________\n",
      "dropout_57 (Dropout)         (None, 5, 5, 128)         0         \n",
      "_________________________________________________________________\n",
      "flatten_9 (Flatten)          (None, 3200)              0         \n",
      "_________________________________________________________________\n",
      "dense_52 (Dense)             (None, 1024)              3277824   \n",
      "_________________________________________________________________\n",
      "activation_53 (Activation)   (None, 1024)              0         \n",
      "_________________________________________________________________\n",
      "batch_normalization_48 (Batc (None, 1024)              4096      \n",
      "_________________________________________________________________\n",
      "dropout_58 (Dropout)         (None, 1024)              0         \n",
      "_________________________________________________________________\n",
      "dense_53 (Dense)             (None, 10)                10250     \n",
      "_________________________________________________________________\n",
      "activation_54 (Activation)   (None, 10)                0         \n",
      "=================================================================\n",
      "Total params: 3,571,594\n",
      "Trainable params: 3,568,714\n",
      "Non-trainable params: 2,880\n",
      "_________________________________________________________________\n"
     ]
    }
   ],
   "source": [
    "#CNN type\n",
    "\n",
    "num_classes = 10\n",
    "\n",
    "model = Sequential()\n",
    "chanDim = -1\n",
    "\n",
    "if K.image_data_format() == \"channels_first\":\n",
    "    chanDim = 1\n",
    "model.add(Conv2D(32, (3, 3), padding=\"same\", input_shape=X_train.shape[1:]))\n",
    "model.add(Activation(\"relu\"))\n",
    "model.add(BatchNormalization(axis=chanDim))\n",
    "model.add(MaxPooling2D(pool_size=(3, 3)))\n",
    "model.add(Dropout(0.25))\n",
    "model.add(Conv2D(64, (3, 3), padding=\"same\"))\n",
    "model.add(Activation(\"relu\"))\n",
    "model.add(BatchNormalization(axis=chanDim))\n",
    "model.add(Conv2D(64, (3, 3), padding=\"same\"))\n",
    "model.add(Activation(\"relu\"))\n",
    "model.add(BatchNormalization(axis=chanDim))\n",
    "model.add(MaxPooling2D(pool_size=(2, 2)))\n",
    "model.add(Dropout(0.25))\n",
    "model.add(Conv2D(128, (3, 3), padding=\"same\"))\n",
    "model.add(Activation(\"relu\"))\n",
    "model.add(BatchNormalization(axis=chanDim))\n",
    "model.add(Conv2D(128, (3, 3), padding=\"same\"))\n",
    "model.add(Activation(\"relu\"))\n",
    "model.add(BatchNormalization(axis=chanDim))\n",
    "model.add(MaxPooling2D(pool_size=(2, 2)))\n",
    "model.add(Dropout(0.25))\n",
    "model.add(Flatten())\n",
    "model.add(Dense(1024))\n",
    "model.add(Activation(\"relu\"))\n",
    "model.add(BatchNormalization())\n",
    "model.add(Dropout(0.5))\n",
    "model.add(Dense(num_classes))\n",
    "model.add(Activation(\"softmax\"))\n",
    "\n",
    "model.summary()\n",
    "\n",
    "# CNN params\n",
    "plot_losses = livelossplot.PlotLossesKeras()\n",
    "\n",
    "EPOCHS = 18\n",
    "BATCH_SIZE = 32\n",
    "INIT_LR = 1e-3\n",
    "opt = Adam(lr=INIT_LR, decay=INIT_LR / EPOCHS)\n",
    "\n",
    "#Training the model\n",
    "\n",
    "model.compile(optimizer='rmsprop', loss='categorical_crossentropy', \n",
    "              metrics=['accuracy'])"
   ]
  },
  {
   "cell_type": "markdown",
   "metadata": {
    "colab_type": "text",
    "id": "PaqhvhF-bPJz"
   },
   "source": [
    "Entrenamos el modelo"
   ]
  },
  {
   "cell_type": "code",
   "execution_count": 259,
   "metadata": {
    "colab": {
     "base_uri": "https://localhost:8080/",
     "height": 465
    },
    "colab_type": "code",
    "id": "zICzW4VZdJLr",
    "outputId": "c6e01ded-a637-41af-b7b4-bc8ac963fbe2"
   },
   "outputs": [
    {
     "data": {
      "image/png": "[encoded data removed]",
      "text/plain": [
       "<Figure size 864x576 with 2 Axes>"
      ]
     },
     "metadata": {
      "tags": []
     },
     "output_type": "display_data"
    },
    {
     "name": "stdout",
     "output_type": "stream",
     "text": [
      "Log-loss (cost function):\n",
      "training   (min:    0.017, max:    0.766, cur:    0.017)\n",
      "validation (min:    0.000, max:    8.369, cur:    0.000)\n",
      "\n",
      "Accuracy:\n",
      "training   (min:    0.765, max:    0.995, cur:    0.995)\n",
      "validation (min:    0.286, max:    1.000, cur:    1.000)\n"
     ]
    },
    {
     "data": {
      "text/plain": [
       "<keras.callbacks.History at 0x7fc506cbfe48>"
      ]
     },
     "execution_count": 259,
     "metadata": {
      "tags": []
     },
     "output_type": "execute_result"
    }
   ],
   "source": [
    "model.fit(X_train, y_train,\n",
    "    batch_size=BATCH_SIZE,              \n",
    "    epochs=EPOCHS,\n",
    "    callbacks=[plot_losses],\n",
    "    verbose=1,\n",
    "    validation_data=(X_test, y_test))"
   ]
  },
  {
   "cell_type": "markdown",
   "metadata": {
    "colab_type": "text",
    "id": "NERSgFP1cf-9"
   },
   "source": [
    "Sacamos la pérdida y accuracy del modelo entrenada"
   ]
  },
  {
   "cell_type": "code",
   "execution_count": 260,
   "metadata": {
    "colab": {
     "base_uri": "https://localhost:8080/",
     "height": 52
    },
    "colab_type": "code",
    "id": "6hzYdH5xf-Gx",
    "outputId": "86edcddd-dc90-43a2-fc2a-514ef64d1413"
   },
   "outputs": [
    {
     "name": "stdout",
     "output_type": "stream",
     "text": [
      "Test loss: 0.0004676735412170776\n",
      "Test accuracy: 0.9997166336072542\n"
     ]
    }
   ],
   "source": [
    "score = model.evaluate(X_test, y_test, verbose=0)\n",
    "print('Test loss:', score[0])\n",
    "print('Test accuracy:', score[1])"
   ]
  },
  {
   "cell_type": "markdown",
   "metadata": {
    "colab_type": "text",
    "id": "4BD5dQ_2cph1"
   },
   "source": [
    "Guardamos el modelo entrenado"
   ]
  },
  {
   "cell_type": "code",
   "execution_count": 0,
   "metadata": {
    "colab": {},
    "colab_type": "code",
    "id": "KMqkokRZl26z"
   },
   "outputs": [],
   "source": [
    "from keras.models import load_model \n",
    "model.save('tercer_intento.h5')"
   ]
  },
  {
   "cell_type": "code",
   "execution_count": 0,
   "metadata": {
    "colab": {},
    "colab_type": "code",
    "id": "OUjH0mO4mN5e"
   },
   "outputs": [],
   "source": [
    "import json\n",
    "model_json = model.to_json()\n",
    "with open(\"tercer_intento2.json\", \"w\") as json_file:\n",
    "    json_file.write(model_json)\n",
    "model.save_weights(\"tercer_intento2.h5\")"
   ]
  },
  {
   "cell_type": "markdown",
   "metadata": {
    "colab_type": "text",
    "id": "8IhD1wmsdx6_"
   },
   "source": [
    "Hacemos una predicción sobre el test para ver qué tal predice"
   ]
  },
  {
   "cell_type": "code",
   "execution_count": 0,
   "metadata": {
    "colab": {},
    "colab_type": "code",
    "id": "xPSrxNbKm-s2"
   },
   "outputs": [],
   "source": [
    "Y_pred = model.predict(X_test)"
   ]
  },
  {
   "cell_type": "code",
   "execution_count": 262,
   "metadata": {
    "colab": {
     "base_uri": "https://localhost:8080/",
     "height": 548
    },
    "colab_type": "code",
    "id": "SEMV3hSpdQEX",
    "outputId": "f1d8fd7a-26fb-41dc-9fcc-128bc67a745c"
   },
   "outputs": [
    {
     "name": "stdout",
     "output_type": "stream",
     "text": [
      "[4 6 0 ... 7 9 4]\n",
      "[4 6 0 ... 7 9 4]\n"
     ]
    },
    {
     "data": {
      "image/png": "[encoded data removed]",
      "text/plain": [
       "<Figure size 576x576 with 2 Axes>"
      ]
     },
     "metadata": {
      "tags": []
     },
     "output_type": "display_data"
    }
   ],
   "source": [
    "import matplotlib.pyplot as plt\n",
    "# Convert predictions classes to one hot vectors \n",
    "Y_pred_classes = np.argmax(Y_pred,axis = 1) \n",
    "# Convert validation observations to one hot vectors\n",
    "print(Y_pred_classes)\n",
    "Y_true = np.argmax(y_test,axis = 1)\n",
    "print(Y_true)\n",
    "# compute the confusion matrix\n",
    "cm = confusion_matrix(Y_true, Y_pred_classes)\n",
    "cm = cm.astype('float') / cm.sum(axis=1)[:, np.newaxis]\n",
    "# plot the confusion matrix\n",
    "f,ax = plt.subplots(figsize=(8, 8))\n",
    "sns.heatmap(cm, annot=True, linewidths=0.01,cmap=\"YlGnBu\",linecolor=\"gray\", fmt= '.1f',ax=ax)\n",
    "plt.xlabel(\"Predicted Label\")\n",
    "plt.ylabel(\"True Label\")\n",
    "plt.title(\"Confusion Matrix\")\n",
    "plt.show();"
   ]
  },
  {
   "cell_type": "markdown",
   "metadata": {
    "colab_type": "text",
    "id": "JBOanWRIeT2N"
   },
   "source": [
    "Creamos lista con las etiquetas para mostrar el porcentaje de predicción sobre cada objeto según el índice del vector. Hacemos una predicción sobre una foto aleatoria del test."
   ]
  },
  {
   "cell_type": "code",
   "execution_count": 0,
   "metadata": {
    "colab": {},
    "colab_type": "code",
    "id": "FVglZCW3nHuw"
   },
   "outputs": [],
   "source": [
    "class_names = list(dummies.columns)[:-1]"
   ]
  },
  {
   "cell_type": "code",
   "execution_count": 264,
   "metadata": {
    "colab": {
     "base_uri": "https://localhost:8080/",
     "height": 494
    },
    "colab_type": "code",
    "id": "YszFR3IunU0w",
    "outputId": "a8c395ac-05e4-4eb3-aa96-0eea0a71cf57"
   },
   "outputs": [
    {
     "name": "stdout",
     "output_type": "stream",
     "text": [
      "[3.8284801e-12 7.6604829e-16 6.5536319e-09 3.4312171e-09 1.7564339e-08\n",
      " 3.7321066e-11 1.0000000e+00 1.3779839e-15 1.6932060e-13 7.4069447e-16]\n",
      "cuchara: 0.0\n",
      "cuchillo: 0.0\n",
      "cuenco: 0.0\n",
      "hervidor: 0.0\n",
      "pelador: 0.0\n",
      "ruido: 0.0\n",
      "sarten: 1.0\n",
      "taza: 0.0\n",
      "tenedor: 0.0\n",
      "tostadora: 0.0\n",
      "(1, 64, 64, 3)\n"
     ]
    },
    {
     "data": {
      "image/png": "[encoded data removed]",
      "text/plain": [
       "<Figure size 432x288 with 1 Axes>"
      ]
     },
     "metadata": {
      "tags": []
     },
     "output_type": "display_data"
    }
   ],
   "source": [
    "%matplotlib inline\n",
    "import matplotlib.pyplot as plt\n",
    "from PIL import Image\n",
    "\n",
    "img = X_test[150]\n",
    "pred = model.predict(np.expand_dims(img,axis=0))[0]\n",
    "print(pred)\n",
    "for obj in class_names:\n",
    "    print(f'{obj}: {round(pred[class_names.index(obj)],5)}')\n",
    "print(np.expand_dims(img,axis=0).shape)\n",
    "plt.imshow(img);"
   ]
  },
  {
   "cell_type": "markdown",
   "metadata": {
    "colab_type": "text",
    "id": "uCZiXleOe6vF"
   },
   "source": [
    "A continuación realizamos pruebas sobre nuevas fotos para comprobar que no existe overfitting. Preparamos la foto según las características necesarias y realizamos la predicción."
   ]
  },
  {
   "cell_type": "markdown",
   "metadata": {
    "colab_type": "text",
    "id": "0neMnXqTfPLB"
   },
   "source": [
    "PRUEBA 1:"
   ]
  },
  {
   "cell_type": "code",
   "execution_count": 0,
   "metadata": {
    "colab": {},
    "colab_type": "code",
    "id": "Lqcu_f6VnXOP"
   },
   "outputs": [],
   "source": [
    "prueba1 = cv2.imread('/content/drive/My Drive/Proyecto/dataset/new_data/cuchara.jpg')\n",
    "prueba1 = cv2.resize(prueba1,(64,64))\n",
    "prueba1 = prueba1.astype('float32') / 255"
   ]
  },
  {
   "cell_type": "code",
   "execution_count": 276,
   "metadata": {
    "colab": {
     "base_uri": "https://localhost:8080/",
     "height": 494
    },
    "colab_type": "code",
    "id": "k5DFahlToDdG",
    "outputId": "19ed2b41-4da2-43ba-d207-f665a710d560"
   },
   "outputs": [
    {
     "name": "stdout",
     "output_type": "stream",
     "text": [
      "[1.6013288e-13 1.7348503e-10 2.9725602e-16 1.1995396e-23 8.0894225e-22\n",
      " 4.4631531e-11 2.2845717e-13 3.7121239e-10 1.0924515e-12 1.0000000e+00]\n",
      "cuchara: 0.0\n",
      "cuchillo: 0.0\n",
      "cuenco: 0.0\n",
      "hervidor: 0.0\n",
      "pelador: 0.0\n",
      "ruido: 0.0\n",
      "sarten: 0.0\n",
      "taza: 0.0\n",
      "tenedor: 0.0\n",
      "tostadora: 1.0\n",
      "(1, 64, 64, 3)\n"
     ]
    },
    {
     "data": {
      "image/png": "[encoded data removed]",
      "text/plain": [
       "<Figure size 432x288 with 1 Axes>"
      ]
     },
     "metadata": {
      "tags": []
     },
     "output_type": "display_data"
    }
   ],
   "source": [
    "%matplotlib inline\n",
    "\n",
    "img = prueba1\n",
    "pred = model.predict(np.expand_dims(img,axis=0))[0]\n",
    "print(pred)\n",
    "for obj in class_names:\n",
    "    print(f'{obj}: {round(pred[class_names.index(obj)],5)}')\n",
    "print(np.expand_dims(img,axis=0).shape)\n",
    "plt.imshow(img);"
   ]
  },
  {
   "cell_type": "markdown",
   "metadata": {
    "colab_type": "text",
    "id": "pPAHPKn_gPFl"
   },
   "source": [
    "PRUEBA 2:"
   ]
  },
  {
   "cell_type": "code",
   "execution_count": 0,
   "metadata": {
    "colab": {},
    "colab_type": "code",
    "id": "BON0Ll3Uojk0"
   },
   "outputs": [],
   "source": [
    "prueba2 = cv2.imread('/content/drive/My Drive/Proyecto/dataset/new_data/cuchillo.jpg')\n",
    "prueba2 = cv2.resize(prueba2,(64,64))\n",
    "prueba2 = prueba2.astype('float32') / 255"
   ]
  },
  {
   "cell_type": "code",
   "execution_count": 278,
   "metadata": {
    "colab": {
     "base_uri": "https://localhost:8080/",
     "height": 494
    },
    "colab_type": "code",
    "id": "U63bV5_kozD5",
    "outputId": "c741f15f-60bc-45ef-ae93-b595dab15948"
   },
   "outputs": [
    {
     "name": "stdout",
     "output_type": "stream",
     "text": [
      "[8.4622764e-07 2.2890233e-03 5.9371610e-04 9.2205447e-08 4.8310079e-07\n",
      " 3.8217628e-01 6.0193849e-01 8.9471563e-05 1.2910137e-02 1.4621544e-06]\n",
      "cuchara: 0.0\n",
      "cuchillo: 0.0022899999748915434\n",
      "cuenco: 0.000590000010561198\n",
      "hervidor: 0.0\n",
      "pelador: 0.0\n",
      "ruido: 0.38218000531196594\n",
      "sarten: 0.6019399762153625\n",
      "taza: 9.000000136438757e-05\n",
      "tenedor: 0.012910000048577785\n",
      "tostadora: 0.0\n",
      "(1, 64, 64, 3)\n"
     ]
    },
    {
     "data": {
      "image/png": "[encoded data removed]",
      "text/plain": [
       "<Figure size 432x288 with 1 Axes>"
      ]
     },
     "metadata": {
      "tags": []
     },
     "output_type": "display_data"
    }
   ],
   "source": [
    "img = prueba2\n",
    "pred = model.predict(np.expand_dims(img,axis=0))[0]\n",
    "print(pred)\n",
    "for obj in class_names:\n",
    "    print(f'{obj}: {round(pred[class_names.index(obj)],5)}')\n",
    "print(np.expand_dims(img,axis=0).shape)\n",
    "plt.imshow(img);"
   ]
  },
  {
   "cell_type": "markdown",
   "metadata": {
    "colab_type": "text",
    "id": "oKx5zqbvgbJJ"
   },
   "source": [
    "PRUEBA 3:"
   ]
  },
  {
   "cell_type": "code",
   "execution_count": 0,
   "metadata": {
    "colab": {},
    "colab_type": "code",
    "id": "qqDDZ4R_o1rJ"
   },
   "outputs": [],
   "source": [
    "prueba3 = cv2.imread('/content/drive/My Drive/Proyecto/dataset/new_data/cuenco.jpg')\n",
    "prueba3 = cv2.resize(prueba3,(64,64))\n",
    "prueba3 = prueba3.astype('float32') / 255"
   ]
  },
  {
   "cell_type": "code",
   "execution_count": 280,
   "metadata": {
    "colab": {
     "base_uri": "https://localhost:8080/",
     "height": 494
    },
    "colab_type": "code",
    "id": "Ae9Vj_lDo79D",
    "outputId": "58c26fc7-51db-477f-cadd-cb4f983a942d"
   },
   "outputs": [
    {
     "name": "stdout",
     "output_type": "stream",
     "text": [
      "[3.0199971e-02 1.1917404e-06 8.6917549e-01 1.2660840e-05 2.6491869e-09\n",
      " 5.4140482e-02 3.3194654e-02 1.9965603e-08 1.7873557e-05 1.3257722e-02]\n",
      "cuchara: 0.03020000085234642\n",
      "cuchillo: 0.0\n",
      "cuenco: 0.8691800236701965\n",
      "hervidor: 9.999999747378752e-06\n",
      "pelador: 0.0\n",
      "ruido: 0.05414000153541565\n",
      "sarten: 0.03319000080227852\n",
      "taza: 0.0\n",
      "tenedor: 1.9999999494757503e-05\n",
      "tostadora: 0.013260000385344028\n",
      "(1, 64, 64, 3)\n"
     ]
    },
    {
     "data": {
      "image/png": "[encoded data removed]",
      "text/plain": [
       "<Figure size 432x288 with 1 Axes>"
      ]
     },
     "metadata": {
      "tags": []
     },
     "output_type": "display_data"
    }
   ],
   "source": [
    "img = prueba3\n",
    "pred = model.predict(np.expand_dims(img,axis=0))[0]\n",
    "print(pred)\n",
    "for obj in class_names:\n",
    "    print(f'{obj}: {round(pred[class_names.index(obj)],5)}')\n",
    "print(np.expand_dims(img,axis=0).shape)\n",
    "plt.imshow(img);"
   ]
  },
  {
   "cell_type": "markdown",
   "metadata": {
    "colab_type": "text",
    "id": "MQAa2hYZgo2d"
   },
   "source": [
    "PRUEBA 4:"
   ]
  },
  {
   "cell_type": "code",
   "execution_count": 0,
   "metadata": {
    "colab": {},
    "colab_type": "code",
    "id": "yvPdjJrpo-EM"
   },
   "outputs": [],
   "source": [
    "prueba4 = cv2.imread('/content/drive/My Drive/Proyecto/dataset/new_data/cuenco2.jpg')\n",
    "prueba4 = cv2.resize(prueba4,(64,64))\n",
    "prueba4 = prueba4.astype('float32') / 255"
   ]
  },
  {
   "cell_type": "code",
   "execution_count": 282,
   "metadata": {
    "colab": {
     "base_uri": "https://localhost:8080/",
     "height": 494
    },
    "colab_type": "code",
    "id": "3wsxDk0rpJvt",
    "outputId": "e683fa7b-0e7b-422e-d04e-531779e2e723"
   },
   "outputs": [
    {
     "name": "stdout",
     "output_type": "stream",
     "text": [
      "[2.1818440e-08 1.2079777e-08 1.6850528e-01 4.2196039e-06 2.7850155e-07\n",
      " 6.0828556e-06 1.8198150e-06 8.3148229e-01 3.7734762e-09 1.2656117e-08]\n",
      "cuchara: 0.0\n",
      "cuchillo: 0.0\n",
      "cuenco: 0.16851000487804413\n",
      "hervidor: 0.0\n",
      "pelador: 0.0\n",
      "ruido: 9.999999747378752e-06\n",
      "sarten: 0.0\n",
      "taza: 0.8314800262451172\n",
      "tenedor: 0.0\n",
      "tostadora: 0.0\n",
      "(1, 64, 64, 3)\n"
     ]
    },
    {
     "data": {
      "image/png": "[encoded data removed]",
      "text/plain": [
       "<Figure size 432x288 with 1 Axes>"
      ]
     },
     "metadata": {
      "tags": []
     },
     "output_type": "display_data"
    }
   ],
   "source": [
    "img = prueba4\n",
    "pred = model.predict(np.expand_dims(img,axis=0))[0]\n",
    "print(pred)\n",
    "for obj in class_names:\n",
    "    print(f'{obj}: {round(pred[class_names.index(obj)],5)}')\n",
    "print(np.expand_dims(img,axis=0).shape)\n",
    "plt.imshow(img);"
   ]
  },
  {
   "cell_type": "markdown",
   "metadata": {
    "colab_type": "text",
    "id": "Am-y2gxOg17i"
   },
   "source": [
    "PRUEBA 5:"
   ]
  },
  {
   "cell_type": "code",
   "execution_count": 0,
   "metadata": {
    "colab": {},
    "colab_type": "code",
    "id": "9GYkj7hlpL7h"
   },
   "outputs": [],
   "source": [
    "prueba5 = cv2.imread('/content/drive/My Drive/Proyecto/dataset/new_data/pelador.jpg')\n",
    "prueba5 = cv2.resize(prueba5,(64,64))\n",
    "prueba5 = prueba5.astype('float32') / 255"
   ]
  },
  {
   "cell_type": "code",
   "execution_count": 284,
   "metadata": {
    "colab": {
     "base_uri": "https://localhost:8080/",
     "height": 494
    },
    "colab_type": "code",
    "id": "_9Pq3UqMpSNF",
    "outputId": "a789e3dc-1d63-4699-efbc-44118a18071f"
   },
   "outputs": [
    {
     "name": "stdout",
     "output_type": "stream",
     "text": [
      "[9.8461086e-01 4.0363197e-09 5.7640087e-10 1.7497932e-04 8.8526242e-05\n",
      " 2.2034702e-07 5.7994146e-03 1.0457749e-03 2.1893826e-04 8.0612823e-03]\n",
      "cuchara: 0.9846100211143494\n",
      "cuchillo: 0.0\n",
      "cuenco: 0.0\n",
      "hervidor: 0.00016999999934341758\n",
      "pelador: 9.000000136438757e-05\n",
      "ruido: 0.0\n",
      "sarten: 0.005799999926239252\n",
      "taza: 0.0010499999625608325\n",
      "tenedor: 0.00022000000171829015\n",
      "tostadora: 0.008059999905526638\n",
      "(1, 64, 64, 3)\n"
     ]
    },
    {
     "data": {
      "image/png": "[encoded data removed]",
      "text/plain": [
       "<Figure size 432x288 with 1 Axes>"
      ]
     },
     "metadata": {
      "tags": []
     },
     "output_type": "display_data"
    }
   ],
   "source": [
    "img = prueba5\n",
    "pred = model.predict(np.expand_dims(img,axis=0))[0]\n",
    "print(pred)\n",
    "for obj in class_names:\n",
    "    print(f'{obj}: {round(pred[class_names.index(obj)],5)}')\n",
    "print(np.expand_dims(img,axis=0).shape)\n",
    "plt.imshow(img);"
   ]
  },
  {
   "cell_type": "code",
   "execution_count": 0,
   "metadata": {
    "colab": {},
    "colab_type": "code",
    "id": "WYDxi-iXj2RR"
   },
   "outputs": [],
   "source": []
  }
 ],
 "metadata": {
  "accelerator": "GPU",
  "colab": {
   "collapsed_sections": [],
   "name": "Copy of Untitled",
   "provenance": []
  },
  "kernelspec": {
   "display_name": "Python 3",
   "language": "python",
   "name": "python3"
  },
  "language_info": {
   "codemirror_mode": {
    "name": "ipython",
    "version": 3
   },
   "file_extension": ".py",
   "mimetype": "text/x-python",
   "name": "python",
   "nbconvert_exporter": "python",
   "pygments_lexer": "ipython3",
   "version": "3.6.9"
  }
 },
 "nbformat": 4,
 "nbformat_minor": 1
}
