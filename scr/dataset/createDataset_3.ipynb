{
 "cells": [
  {
   "cell_type": "code",
   "execution_count": 5,
   "metadata": {},
   "outputs": [],
   "source": [
    "import cv2\n",
    "import os\n",
    "from PIL import Image\n",
    "import matplotlib.image as mpimg\n",
    "import matplotlib.pyplot as plt\n",
    "import pandas as pd\n",
    "import pickle\n",
    "import createDataset as CD"
   ]
  },
  {
   "cell_type": "code",
   "execution_count": 6,
   "metadata": {},
   "outputs": [
    {
     "name": "stdout",
     "output_type": "stream",
     "text": [
      "cuenco dataset created\n",
      "tenedor dataset created\n",
      "hervidor dataset created\n"
     ]
    }
   ],
   "source": [
    "objects = ['cuenco','tenedor','hervidor']\n",
    "\n",
    "def getDataset(directory):\n",
    "    '''Create a dataset where store every image as array, it's label and path, in pickle format'''\n",
    "    dataset = pd.DataFrame(columns=['label','image','path'])\n",
    "    for obj in objects:\n",
    "        for im in os.listdir(f'{directory}/{obj}'):\n",
    "            dataset = dataset.append({'label':obj,'image':cv2.imread(f'{directory}/{obj}/{im}'),'path':f'{directory}/{obj}/{im}'},ignore_index=True)\n",
    "        print(f'{obj} dataset created')\n",
    "    dataset.to_pickle('../../INPUT/training_dataset.pkl')\n",
    "    \n",
    "getDataset('../../INPUT/images')"
   ]
  },
  {
   "cell_type": "code",
   "execution_count": null,
   "metadata": {},
   "outputs": [],
   "source": []
  }
 ],
 "metadata": {
  "kernelspec": {
   "display_name": "Python 3",
   "language": "python",
   "name": "python3"
  },
  "language_info": {
   "codemirror_mode": {
    "name": "ipython",
    "version": 3
   },
   "file_extension": ".py",
   "mimetype": "text/x-python",
   "name": "python",
   "nbconvert_exporter": "python",
   "pygments_lexer": "ipython3",
   "version": "3.6.9"
  }
 },
 "nbformat": 4,
 "nbformat_minor": 2
}
