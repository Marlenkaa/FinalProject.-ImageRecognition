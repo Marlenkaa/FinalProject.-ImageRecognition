{
 "cells": [
  {
   "cell_type": "code",
   "execution_count": 1,
   "metadata": {},
   "outputs": [],
   "source": [
    "import cv2\n",
    "import os\n",
    "from PIL import Image\n",
    "import matplotlib.image as mpimg\n",
    "import matplotlib.pyplot as plt\n",
    "import pandas as pd\n",
    "import pickle\n",
    "import createDataset as CD"
   ]
  },
  {
   "cell_type": "markdown",
   "metadata": {},
   "source": [
    "### De todos los videos reducidos a 64x64, sacamos los frames y ordenamos por carpetas"
   ]
  },
  {
   "cell_type": "code",
   "execution_count": 2,
   "metadata": {},
   "outputs": [
    {
     "name": "stdout",
     "output_type": "stream",
     "text": [
      "tostadora__ folder created\n",
      "cuenco_ folder created\n",
      "cuchara folder created\n",
      "tenedor__ folder created\n",
      "cuchillo__ folder created\n",
      "sarten_ folder created\n",
      "taza__ folder created\n",
      "taza_ folder created\n",
      "sarten folder created\n",
      "cuchillo folder created\n",
      "cuenco__ folder created\n",
      "pelador__ folder created\n",
      "hervidor__ folder created\n",
      "cuchara_ folder created\n",
      "hervidor_ folder created\n",
      "sarten__ folder created\n",
      "pelador_ folder created\n",
      "hervidor folder created\n",
      "cuenco folder created\n",
      "tostadora folder created\n",
      "taza folder created\n",
      "tostadora_ folder created\n",
      "cuchara__ folder created\n",
      "tenedor folder created\n",
      "ruido folder created\n",
      "pelador folder created\n",
      "cuchillo_ folder created\n",
      "tenedor_ folder created\n"
     ]
    }
   ],
   "source": [
    "CD.getFrames('../../INPUT/videos')"
   ]
  },
  {
   "cell_type": "markdown",
   "metadata": {},
   "source": [
    "### Listamos todas las carpetas por objeto que tenemos"
   ]
  },
  {
   "cell_type": "code",
   "execution_count": 3,
   "metadata": {},
   "outputs": [
    {
     "data": {
      "text/plain": [
       "['ruido',\n",
       " 'cuchara',\n",
       " 'taza',\n",
       " 'tostadora',\n",
       " 'tenedor',\n",
       " 'pelador',\n",
       " 'sarten',\n",
       " 'cuenco',\n",
       " 'cuchillo',\n",
       " 'hervidor']"
      ]
     },
     "execution_count": 3,
     "metadata": {},
     "output_type": "execute_result"
    }
   ],
   "source": [
    "objects = os.listdir('../../INPUT/images/')\n",
    "objects"
   ]
  },
  {
   "cell_type": "markdown",
   "metadata": {},
   "source": [
    "### Exploramos una imagen aleatoria"
   ]
  },
  {
   "cell_type": "code",
   "execution_count": 9,
   "metadata": {},
   "outputs": [],
   "source": [
    "alImage = os.listdir(f'../../INPUT/images/{objects[5]}')[10]\n",
    "path = f'../../INPUT/images/{objects[5]}/{alImage}'"
   ]
  },
  {
   "cell_type": "code",
   "execution_count": 10,
   "metadata": {},
   "outputs": [
    {
     "data": {
      "text/plain": [
       "'pelador__106.jpg'"
      ]
     },
     "execution_count": 10,
     "metadata": {},
     "output_type": "execute_result"
    }
   ],
   "source": [
    "os.path.relpath(alImage)"
   ]
  },
  {
   "cell_type": "code",
   "execution_count": 11,
   "metadata": {},
   "outputs": [
    {
     "name": "stdout",
     "output_type": "stream",
     "text": [
      "JPEG (64, 64) RGB\n"
     ]
    }
   ],
   "source": [
    "im = Image.open(path)\n",
    "print(im.format, im.size, im.mode)"
   ]
  },
  {
   "cell_type": "code",
   "execution_count": 12,
   "metadata": {},
   "outputs": [
    {
     "name": "stdout",
     "output_type": "stream",
     "text": [
      "<class 'numpy.ndarray'>\n",
      "(64, 64, 3)\n"
     ]
    }
   ],
   "source": [
    "im2 = cv2.imread(path)\n",
    "print(type(im2))\n",
    "print(im2.shape)"
   ]
  },
  {
   "cell_type": "code",
   "execution_count": 13,
   "metadata": {},
   "outputs": [
    {
     "data": {
      "image/png": "[encoded data removed]",
      "text/plain": [
       "<Figure size 432x288 with 1 Axes>"
      ]
     },
     "metadata": {
      "needs_background": "light"
     },
     "output_type": "display_data"
    }
   ],
   "source": [
    "im3 = mpimg.imread(path)\n",
    "plt.imshow(im3)\n",
    "plt.show()"
   ]
  },
  {
   "cell_type": "markdown",
   "metadata": {},
   "source": [
    "### Creamos un dataframe en formato pickle con todos los frames convertidos a array y su etiqueta"
   ]
  },
  {
   "cell_type": "code",
   "execution_count": 2,
   "metadata": {},
   "outputs": [
    {
     "name": "stdout",
     "output_type": "stream",
     "text": [
      "ruido dataset created\n",
      "cuchara dataset created\n",
      "taza dataset created\n",
      "tostadora dataset created\n",
      "tenedor dataset created\n",
      "pelador dataset created\n",
      "sarten dataset created\n",
      "cuenco dataset created\n",
      "cuchillo dataset created\n",
      "hervidor dataset created\n"
     ]
    }
   ],
   "source": [
    "CD.getDataset('../../INPUT/images')"
   ]
  },
  {
   "cell_type": "code",
   "execution_count": 3,
   "metadata": {},
   "outputs": [],
   "source": [
    "df = pickle.load(open('../../INPUT/training_dataset_2.pkl', 'rb'))"
   ]
  },
  {
   "cell_type": "code",
   "execution_count": 4,
   "metadata": {},
   "outputs": [
    {
     "data": {
      "text/html": [
       "<div>\n",
       "<style scoped>\n",
       "    .dataframe tbody tr th:only-of-type {\n",
       "        vertical-align: middle;\n",
       "    }\n",
       "\n",
       "    .dataframe tbody tr th {\n",
       "        vertical-align: top;\n",
       "    }\n",
       "\n",
       "    .dataframe thead th {\n",
       "        text-align: right;\n",
       "    }\n",
       "</style>\n",
       "<table border=\"1\" class=\"dataframe\">\n",
       "  <thead>\n",
       "    <tr style=\"text-align: right;\">\n",
       "      <th></th>\n",
       "      <th>label</th>\n",
       "      <th>image</th>\n",
       "      <th>path</th>\n",
       "    </tr>\n",
       "  </thead>\n",
       "  <tbody>\n",
       "    <tr>\n",
       "      <th>0</th>\n",
       "      <td>ruido</td>\n",
       "      <td>[[[91, 148, 193], [103, 159, 206], [108, 164, ...</td>\n",
       "      <td>../../INPUT/images/ruido/ruido201.jpg</td>\n",
       "    </tr>\n",
       "    <tr>\n",
       "      <th>1</th>\n",
       "      <td>ruido</td>\n",
       "      <td>[[[249, 254, 255], [250, 255, 255], [237, 242,...</td>\n",
       "      <td>../../INPUT/images/ruido/ruido979.jpg</td>\n",
       "    </tr>\n",
       "    <tr>\n",
       "      <th>2</th>\n",
       "      <td>ruido</td>\n",
       "      <td>[[[7, 2, 1], [5, 0, 0], [5, 1, 0], [6, 2, 1], ...</td>\n",
       "      <td>../../INPUT/images/ruido/ruido884.jpg</td>\n",
       "    </tr>\n",
       "    <tr>\n",
       "      <th>3</th>\n",
       "      <td>ruido</td>\n",
       "      <td>[[[218, 219, 210], [218, 217, 207], [223, 221,...</td>\n",
       "      <td>../../INPUT/images/ruido/ruido1027.jpg</td>\n",
       "    </tr>\n",
       "    <tr>\n",
       "      <th>4</th>\n",
       "      <td>ruido</td>\n",
       "      <td>[[[26, 25, 34], [33, 33, 39], [28, 28, 34], [1...</td>\n",
       "      <td>../../INPUT/images/ruido/ruido530.jpg</td>\n",
       "    </tr>\n",
       "  </tbody>\n",
       "</table>\n",
       "</div>"
      ],
      "text/plain": [
       "   label                                              image  \\\n",
       "0  ruido  [[[91, 148, 193], [103, 159, 206], [108, 164, ...   \n",
       "1  ruido  [[[249, 254, 255], [250, 255, 255], [237, 242,...   \n",
       "2  ruido  [[[7, 2, 1], [5, 0, 0], [5, 1, 0], [6, 2, 1], ...   \n",
       "3  ruido  [[[218, 219, 210], [218, 217, 207], [223, 221,...   \n",
       "4  ruido  [[[26, 25, 34], [33, 33, 39], [28, 28, 34], [1...   \n",
       "\n",
       "                                     path  \n",
       "0   ../../INPUT/images/ruido/ruido201.jpg  \n",
       "1   ../../INPUT/images/ruido/ruido979.jpg  \n",
       "2   ../../INPUT/images/ruido/ruido884.jpg  \n",
       "3  ../../INPUT/images/ruido/ruido1027.jpg  \n",
       "4   ../../INPUT/images/ruido/ruido530.jpg  "
      ]
     },
     "execution_count": 4,
     "metadata": {},
     "output_type": "execute_result"
    }
   ],
   "source": [
    "df.head()"
   ]
  }
 ],
 "metadata": {
  "kernelspec": {
   "display_name": "Python 3",
   "language": "python",
   "name": "python3"
  },
  "language_info": {
   "codemirror_mode": {
    "name": "ipython",
    "version": 3
   },
   "file_extension": ".py",
   "mimetype": "text/x-python",
   "name": "python",
   "nbconvert_exporter": "python",
   "pygments_lexer": "ipython3",
   "version": "3.6.9"
  }
 },
 "nbformat": 4,
 "nbformat_minor": 2
}
