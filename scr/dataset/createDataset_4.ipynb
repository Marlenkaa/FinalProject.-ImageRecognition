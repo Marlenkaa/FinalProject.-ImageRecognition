{
 "cells": [
  {
   "cell_type": "code",
   "execution_count": 2,
   "metadata": {},
   "outputs": [],
   "source": [
    "import cv2\n",
    "import os\n",
    "from PIL import Image\n",
    "import matplotlib.image as mpimg\n",
    "import matplotlib.pyplot as plt\n",
    "import pandas as pd\n",
    "import pickle\n",
    "import createDataset as CD"
   ]
  },
  {
   "cell_type": "code",
   "execution_count": 3,
   "metadata": {},
   "outputs": [
    {
     "name": "stdout",
     "output_type": "stream",
     "text": [
      "ruidoB_ folder created\n",
      "ruidoB___ folder created\n",
      "peladorB_ folder created\n",
      "tostadoraB folder created\n",
      "cucharaB folder created\n",
      "cuchilloB_ folder created\n",
      "tenedorB_ folder created\n",
      "peladorB folder created\n",
      "cuencoB_ folder created\n",
      "ruidoB folder created\n",
      "hervidorB folder created\n",
      "cucharaB_ folder created\n",
      "hervidorB_ folder created\n",
      "ruidoB__ folder created\n",
      "tenedorB folder created\n",
      "tostadoraB_ folder created\n",
      "cuchilloB folder created\n",
      "cuencoB folder created\n"
     ]
    }
   ],
   "source": [
    "CD.getFrames('../../INPUT/videos2')"
   ]
  },
  {
   "cell_type": "code",
   "execution_count": 4,
   "metadata": {},
   "outputs": [
    {
     "data": {
      "text/plain": [
       "['ruido',\n",
       " 'cuchara',\n",
       " 'taza',\n",
       " 'tostadora',\n",
       " 'tenedor',\n",
       " 'pelador',\n",
       " 'sarten',\n",
       " 'cuenco',\n",
       " 'cuchillo',\n",
       " 'hervidor']"
      ]
     },
     "execution_count": 4,
     "metadata": {},
     "output_type": "execute_result"
    }
   ],
   "source": [
    "objects = os.listdir('../../INPUT/images/')\n",
    "objects"
   ]
  },
  {
   "cell_type": "code",
   "execution_count": 7,
   "metadata": {},
   "outputs": [],
   "source": [
    "alImage = os.listdir(f'../../INPUT/images/{objects[2]}')[10]\n",
    "path = f'../../INPUT/images/{objects[2]}/{alImage}'"
   ]
  },
  {
   "cell_type": "code",
   "execution_count": 8,
   "metadata": {},
   "outputs": [
    {
     "data": {
      "text/plain": [
       "'taza350.jpg'"
      ]
     },
     "execution_count": 8,
     "metadata": {},
     "output_type": "execute_result"
    }
   ],
   "source": [
    "os.path.relpath(alImage)"
   ]
  },
  {
   "cell_type": "code",
   "execution_count": 9,
   "metadata": {},
   "outputs": [
    {
     "name": "stdout",
     "output_type": "stream",
     "text": [
      "JPEG (64, 64) RGB\n"
     ]
    }
   ],
   "source": [
    "im = Image.open(path)\n",
    "print(im.format, im.size, im.mode)"
   ]
  },
  {
   "cell_type": "code",
   "execution_count": 10,
   "metadata": {},
   "outputs": [
    {
     "name": "stdout",
     "output_type": "stream",
     "text": [
      "<class 'numpy.ndarray'>\n",
      "(64, 64, 3)\n"
     ]
    }
   ],
   "source": [
    "im2 = cv2.imread(path)\n",
    "print(type(im2))\n",
    "print(im2.shape)"
   ]
  },
  {
   "cell_type": "code",
   "execution_count": 11,
   "metadata": {},
   "outputs": [
    {
     "data": {
      "image/png": "[encoded data removed]",
      "text/plain": [
       "<Figure size 432x288 with 1 Axes>"
      ]
     },
     "metadata": {
      "needs_background": "light"
     },
     "output_type": "display_data"
    }
   ],
   "source": [
    "im3 = mpimg.imread(path)\n",
    "plt.imshow(im3)\n",
    "plt.show()"
   ]
  },
  {
   "cell_type": "code",
   "execution_count": 12,
   "metadata": {},
   "outputs": [
    {
     "name": "stdout",
     "output_type": "stream",
     "text": [
      "ruido dataset created\n",
      "cuchara dataset created\n",
      "taza dataset created\n",
      "tostadora dataset created\n",
      "tenedor dataset created\n",
      "pelador dataset created\n",
      "sarten dataset created\n",
      "cuenco dataset created\n",
      "cuchillo dataset created\n",
      "hervidor dataset created\n"
     ]
    }
   ],
   "source": [
    "CD.getDataset('../../INPUT/images')"
   ]
  },
  {
   "cell_type": "code",
   "execution_count": 13,
   "metadata": {},
   "outputs": [],
   "source": [
    "df = pickle.load(open('../../INPUT/training_dataset_all.pkl', 'rb'))"
   ]
  },
  {
   "cell_type": "code",
   "execution_count": 15,
   "metadata": {},
   "outputs": [
    {
     "data": {
      "text/plain": [
       "(45173, 3)"
      ]
     },
     "execution_count": 15,
     "metadata": {},
     "output_type": "execute_result"
    }
   ],
   "source": [
    "df.shape"
   ]
  }
 ],
 "metadata": {
  "kernelspec": {
   "display_name": "Python 3",
   "language": "python",
   "name": "python3"
  },
  "language_info": {
   "codemirror_mode": {
    "name": "ipython",
    "version": 3
   },
   "file_extension": ".py",
   "mimetype": "text/x-python",
   "name": "python",
   "nbconvert_exporter": "python",
   "pygments_lexer": "ipython3",
   "version": "3.6.9"
  }
 },
 "nbformat": 4,
 "nbformat_minor": 2
}
