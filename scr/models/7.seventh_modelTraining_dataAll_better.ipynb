{
 "cells": [
  {
   "cell_type": "code",
   "execution_count": 1,
   "metadata": {
    "colab": {},
    "colab_type": "code",
    "id": "outn-DnH00f1"
   },
   "outputs": [
    {
     "name": "stderr",
     "output_type": "stream",
     "text": [
      "Using TensorFlow backend.\n"
     ]
    }
   ],
   "source": [
    "from __future__ import print_function\n",
    "import keras\n",
    "from keras.models import Sequential\n",
    "from keras.layers import Dense, Dropout, Flatten\n",
    "from keras.layers import Conv2D, MaxPooling2D\n",
    "from keras import backend as K\n",
    "import pandas as pd\n",
    "import numpy as np\n",
    "import pickle\n",
    "from sklearn.model_selection import train_test_split\n",
    "import livelossplot\n",
    "from sklearn.metrics import confusion_matrix\n",
    "import matplotlib.pyplot as plt\n",
    "import seaborn as sns\n",
    "import matplotlib.pyplot as plt\n",
    "from PIL import Image\n",
    "import cv2\n",
    "import random\n",
    "from keras.layers.normalization import BatchNormalization\n",
    "from keras.optimizers import Adam\n",
    "from keras.layers.core import Activation, Flatten, Dropout, Dense\n",
    "import operator"
   ]
  },
  {
   "cell_type": "markdown",
   "metadata": {},
   "source": [
    "# Preparing data"
   ]
  },
  {
   "cell_type": "code",
   "execution_count": 2,
   "metadata": {
    "colab": {
     "base_uri": "https://localhost:8080/",
     "height": 34
    },
    "colab_type": "code",
    "id": "jh_EEIBn7yjI",
    "outputId": "3e91b8a3-9b49-4a7a-a9e3-a7cf60e699ea"
   },
   "outputs": [
    {
     "data": {
      "text/plain": [
       "(45173, 3)"
      ]
     },
     "execution_count": 2,
     "metadata": {},
     "output_type": "execute_result"
    }
   ],
   "source": [
    "kitchenware = pickle.load(open('../../INPUT/training_dataset_all.pkl', 'rb'))\n",
    "kitchenware.values.shape"
   ]
  },
  {
   "cell_type": "code",
   "execution_count": 3,
   "metadata": {
    "colab": {},
    "colab_type": "code",
    "id": "9n2IXXZEEEya"
   },
   "outputs": [],
   "source": [
    "# Prueba sin el objeto sartén\n",
    "\n",
    "#kitchenware = kitchenware[~ (kitchenware.label == \"sarten\")].reset_index()"
   ]
  },
  {
   "cell_type": "code",
   "execution_count": 5,
   "metadata": {
    "colab": {},
    "colab_type": "code",
    "id": "o-ZbuUyucnP9"
   },
   "outputs": [],
   "source": [
    "dummies = pd.get_dummies(kitchenware['label'])"
   ]
  },
  {
   "cell_type": "code",
   "execution_count": 6,
   "metadata": {
    "colab": {
     "base_uri": "https://localhost:8080/",
     "height": 206
    },
    "colab_type": "code",
    "id": "mgGI048Ccp86",
    "outputId": "865051b3-b2a9-4d5a-b084-a888e6851ac0"
   },
   "outputs": [
    {
     "data": {
      "text/html": [
       "<div>\n",
       "<style scoped>\n",
       "    .dataframe tbody tr th:only-of-type {\n",
       "        vertical-align: middle;\n",
       "    }\n",
       "\n",
       "    .dataframe tbody tr th {\n",
       "        vertical-align: top;\n",
       "    }\n",
       "\n",
       "    .dataframe thead th {\n",
       "        text-align: right;\n",
       "    }\n",
       "</style>\n",
       "<table border=\"1\" class=\"dataframe\">\n",
       "  <thead>\n",
       "    <tr style=\"text-align: right;\">\n",
       "      <th></th>\n",
       "      <th>cuchara</th>\n",
       "      <th>cuchillo</th>\n",
       "      <th>cuenco</th>\n",
       "      <th>hervidor</th>\n",
       "      <th>pelador</th>\n",
       "      <th>ruido</th>\n",
       "      <th>sarten</th>\n",
       "      <th>taza</th>\n",
       "      <th>tenedor</th>\n",
       "      <th>tostadora</th>\n",
       "    </tr>\n",
       "  </thead>\n",
       "  <tbody>\n",
       "    <tr>\n",
       "      <th>0</th>\n",
       "      <td>0</td>\n",
       "      <td>0</td>\n",
       "      <td>0</td>\n",
       "      <td>0</td>\n",
       "      <td>0</td>\n",
       "      <td>1</td>\n",
       "      <td>0</td>\n",
       "      <td>0</td>\n",
       "      <td>0</td>\n",
       "      <td>0</td>\n",
       "    </tr>\n",
       "    <tr>\n",
       "      <th>1</th>\n",
       "      <td>0</td>\n",
       "      <td>0</td>\n",
       "      <td>0</td>\n",
       "      <td>0</td>\n",
       "      <td>0</td>\n",
       "      <td>1</td>\n",
       "      <td>0</td>\n",
       "      <td>0</td>\n",
       "      <td>0</td>\n",
       "      <td>0</td>\n",
       "    </tr>\n",
       "    <tr>\n",
       "      <th>2</th>\n",
       "      <td>0</td>\n",
       "      <td>0</td>\n",
       "      <td>0</td>\n",
       "      <td>0</td>\n",
       "      <td>0</td>\n",
       "      <td>1</td>\n",
       "      <td>0</td>\n",
       "      <td>0</td>\n",
       "      <td>0</td>\n",
       "      <td>0</td>\n",
       "    </tr>\n",
       "    <tr>\n",
       "      <th>3</th>\n",
       "      <td>0</td>\n",
       "      <td>0</td>\n",
       "      <td>0</td>\n",
       "      <td>0</td>\n",
       "      <td>0</td>\n",
       "      <td>1</td>\n",
       "      <td>0</td>\n",
       "      <td>0</td>\n",
       "      <td>0</td>\n",
       "      <td>0</td>\n",
       "    </tr>\n",
       "    <tr>\n",
       "      <th>4</th>\n",
       "      <td>0</td>\n",
       "      <td>0</td>\n",
       "      <td>0</td>\n",
       "      <td>0</td>\n",
       "      <td>0</td>\n",
       "      <td>1</td>\n",
       "      <td>0</td>\n",
       "      <td>0</td>\n",
       "      <td>0</td>\n",
       "      <td>0</td>\n",
       "    </tr>\n",
       "  </tbody>\n",
       "</table>\n",
       "</div>"
      ],
      "text/plain": [
       "   cuchara  cuchillo  cuenco  hervidor  pelador  ruido  sarten  taza  tenedor  \\\n",
       "0        0         0       0         0        0      1       0     0        0   \n",
       "1        0         0       0         0        0      1       0     0        0   \n",
       "2        0         0       0         0        0      1       0     0        0   \n",
       "3        0         0       0         0        0      1       0     0        0   \n",
       "4        0         0       0         0        0      1       0     0        0   \n",
       "\n",
       "   tostadora  \n",
       "0          0  \n",
       "1          0  \n",
       "2          0  \n",
       "3          0  \n",
       "4          0  "
      ]
     },
     "execution_count": 6,
     "metadata": {},
     "output_type": "execute_result"
    }
   ],
   "source": [
    "dummies.head()"
   ]
  },
  {
   "cell_type": "code",
   "execution_count": 7,
   "metadata": {
    "colab": {},
    "colab_type": "code",
    "id": "nK5T-xvzcs5d"
   },
   "outputs": [],
   "source": [
    "dummies['gt'] = dummies.apply(lambda x: pd.Series([x.values]), axis=1)"
   ]
  },
  {
   "cell_type": "code",
   "execution_count": 8,
   "metadata": {
    "colab": {
     "base_uri": "https://localhost:8080/",
     "height": 206
    },
    "colab_type": "code",
    "id": "_IBQEzrqcvzO",
    "outputId": "2788ea7c-62b2-409b-a755-a9c6de384a7c"
   },
   "outputs": [
    {
     "data": {
      "text/html": [
       "<div>\n",
       "<style scoped>\n",
       "    .dataframe tbody tr th:only-of-type {\n",
       "        vertical-align: middle;\n",
       "    }\n",
       "\n",
       "    .dataframe tbody tr th {\n",
       "        vertical-align: top;\n",
       "    }\n",
       "\n",
       "    .dataframe thead th {\n",
       "        text-align: right;\n",
       "    }\n",
       "</style>\n",
       "<table border=\"1\" class=\"dataframe\">\n",
       "  <thead>\n",
       "    <tr style=\"text-align: right;\">\n",
       "      <th></th>\n",
       "      <th>cuchara</th>\n",
       "      <th>cuchillo</th>\n",
       "      <th>cuenco</th>\n",
       "      <th>hervidor</th>\n",
       "      <th>pelador</th>\n",
       "      <th>ruido</th>\n",
       "      <th>sarten</th>\n",
       "      <th>taza</th>\n",
       "      <th>tenedor</th>\n",
       "      <th>tostadora</th>\n",
       "      <th>gt</th>\n",
       "    </tr>\n",
       "  </thead>\n",
       "  <tbody>\n",
       "    <tr>\n",
       "      <th>0</th>\n",
       "      <td>0</td>\n",
       "      <td>0</td>\n",
       "      <td>0</td>\n",
       "      <td>0</td>\n",
       "      <td>0</td>\n",
       "      <td>1</td>\n",
       "      <td>0</td>\n",
       "      <td>0</td>\n",
       "      <td>0</td>\n",
       "      <td>0</td>\n",
       "      <td>[0, 0, 0, 0, 0, 1, 0, 0, 0, 0]</td>\n",
       "    </tr>\n",
       "    <tr>\n",
       "      <th>1</th>\n",
       "      <td>0</td>\n",
       "      <td>0</td>\n",
       "      <td>0</td>\n",
       "      <td>0</td>\n",
       "      <td>0</td>\n",
       "      <td>1</td>\n",
       "      <td>0</td>\n",
       "      <td>0</td>\n",
       "      <td>0</td>\n",
       "      <td>0</td>\n",
       "      <td>[0, 0, 0, 0, 0, 1, 0, 0, 0, 0]</td>\n",
       "    </tr>\n",
       "    <tr>\n",
       "      <th>2</th>\n",
       "      <td>0</td>\n",
       "      <td>0</td>\n",
       "      <td>0</td>\n",
       "      <td>0</td>\n",
       "      <td>0</td>\n",
       "      <td>1</td>\n",
       "      <td>0</td>\n",
       "      <td>0</td>\n",
       "      <td>0</td>\n",
       "      <td>0</td>\n",
       "      <td>[0, 0, 0, 0, 0, 1, 0, 0, 0, 0]</td>\n",
       "    </tr>\n",
       "    <tr>\n",
       "      <th>3</th>\n",
       "      <td>0</td>\n",
       "      <td>0</td>\n",
       "      <td>0</td>\n",
       "      <td>0</td>\n",
       "      <td>0</td>\n",
       "      <td>1</td>\n",
       "      <td>0</td>\n",
       "      <td>0</td>\n",
       "      <td>0</td>\n",
       "      <td>0</td>\n",
       "      <td>[0, 0, 0, 0, 0, 1, 0, 0, 0, 0]</td>\n",
       "    </tr>\n",
       "    <tr>\n",
       "      <th>4</th>\n",
       "      <td>0</td>\n",
       "      <td>0</td>\n",
       "      <td>0</td>\n",
       "      <td>0</td>\n",
       "      <td>0</td>\n",
       "      <td>1</td>\n",
       "      <td>0</td>\n",
       "      <td>0</td>\n",
       "      <td>0</td>\n",
       "      <td>0</td>\n",
       "      <td>[0, 0, 0, 0, 0, 1, 0, 0, 0, 0]</td>\n",
       "    </tr>\n",
       "  </tbody>\n",
       "</table>\n",
       "</div>"
      ],
      "text/plain": [
       "   cuchara  cuchillo  cuenco  hervidor  pelador  ruido  sarten  taza  tenedor  \\\n",
       "0        0         0       0         0        0      1       0     0        0   \n",
       "1        0         0       0         0        0      1       0     0        0   \n",
       "2        0         0       0         0        0      1       0     0        0   \n",
       "3        0         0       0         0        0      1       0     0        0   \n",
       "4        0         0       0         0        0      1       0     0        0   \n",
       "\n",
       "   tostadora                              gt  \n",
       "0          0  [0, 0, 0, 0, 0, 1, 0, 0, 0, 0]  \n",
       "1          0  [0, 0, 0, 0, 0, 1, 0, 0, 0, 0]  \n",
       "2          0  [0, 0, 0, 0, 0, 1, 0, 0, 0, 0]  \n",
       "3          0  [0, 0, 0, 0, 0, 1, 0, 0, 0, 0]  \n",
       "4          0  [0, 0, 0, 0, 0, 1, 0, 0, 0, 0]  "
      ]
     },
     "execution_count": 8,
     "metadata": {},
     "output_type": "execute_result"
    }
   ],
   "source": [
    "dummies.head()"
   ]
  },
  {
   "cell_type": "markdown",
   "metadata": {},
   "source": [
    "# Model training"
   ]
  },
  {
   "cell_type": "code",
   "execution_count": 9,
   "metadata": {
    "colab": {},
    "colab_type": "code",
    "id": "z0Pf9iTFczmd"
   },
   "outputs": [],
   "source": [
    "X = np.stack(kitchenware['image'])\n",
    "y = np.stack(dummies['gt'])"
   ]
  },
  {
   "cell_type": "code",
   "execution_count": 11,
   "metadata": {
    "colab": {
     "base_uri": "https://localhost:8080/",
     "height": 52
    },
    "colab_type": "code",
    "id": "INwW_MOEc2V-",
    "outputId": "50710f98-f0f3-4f75-bca3-876c9c00e322"
   },
   "outputs": [
    {
     "name": "stdout",
     "output_type": "stream",
     "text": [
      "(45173, 64, 64, 3)\n",
      "(45173, 10)\n"
     ]
    }
   ],
   "source": [
    "print(X.shape)\n",
    "print(y.shape)"
   ]
  },
  {
   "cell_type": "code",
   "execution_count": 14,
   "metadata": {
    "colab": {},
    "colab_type": "code",
    "id": "Cv-10Bspc5GL"
   },
   "outputs": [],
   "source": [
    "X_train, X_test, y_train, y_test = train_test_split(X, y, test_size=0.2, random_state=42)"
   ]
  },
  {
   "cell_type": "code",
   "execution_count": 240,
   "metadata": {
    "colab": {
     "base_uri": "https://localhost:8080/",
     "height": 86
    },
    "colab_type": "code",
    "id": "Gwb6ZeZnc7uy",
    "outputId": "4c5f65f4-cec2-4f25-a0a2-29f42f11e478"
   },
   "outputs": [
    {
     "name": "stdout",
     "output_type": "stream",
     "text": [
      "(36138, 64, 64, 3)\n",
      "(9035, 64, 64, 3)\n",
      "(36138, 10)\n",
      "(9035, 10)\n"
     ]
    }
   ],
   "source": [
    "print(X_train.shape)\n",
    "print(X_test.shape)\n",
    "print(y_train.shape)\n",
    "print(y_test.shape)"
   ]
  },
  {
   "cell_type": "code",
   "execution_count": 0,
   "metadata": {
    "colab": {},
    "colab_type": "code",
    "id": "EWEiVSlaO9Cr"
   },
   "outputs": [],
   "source": [
    "num_classes = 10\n",
    "img_rows = 64\n",
    "img_cols = 64"
   ]
  },
  {
   "cell_type": "code",
   "execution_count": 242,
   "metadata": {
    "colab": {
     "base_uri": "https://localhost:8080/",
     "height": 69
    },
    "colab_type": "code",
    "id": "E214Lq8xc9-j",
    "outputId": "07ef45b6-7504-415b-fce3-dbeb4e184506"
   },
   "outputs": [
    {
     "name": "stdout",
     "output_type": "stream",
     "text": [
      "x_train shape: (36138, 64, 64, 3)\n",
      "36138 train samples\n",
      "9035 test samples\n"
     ]
    }
   ],
   "source": [
    "# Incoming data is in uint8. Cast the input data images to be floats in range [0.0-1.0]\n",
    "# DATA NORMALIZATION\n",
    "X_train = X_train.astype('float32') / 255\n",
    "X_test = X_test.astype('float32') / 255\n",
    "\n",
    "print('x_train shape:', X_train.shape)\n",
    "print(X_train.shape[0], 'train samples')\n",
    "print(X_test.shape[0], 'test samples')"
   ]
  },
  {
   "cell_type": "code",
   "execution_count": 243,
   "metadata": {
    "colab": {
     "base_uri": "https://localhost:8080/",
     "height": 1000
    },
    "colab_type": "code",
    "id": "9r-fenPjdBbI",
    "outputId": "5fb8457e-8ff3-4e8b-88b6-cf8f598e40b1"
   },
   "outputs": [
    {
     "name": "stdout",
     "output_type": "stream",
     "text": [
      "Model: \"sequential_18\"\n",
      "_________________________________________________________________\n",
      "Layer (type)                 Output Shape              Param #   \n",
      "=================================================================\n",
      "conv2d_54 (Conv2D)           (None, 64, 64, 32)        896       \n",
      "_________________________________________________________________\n",
      "activation_101 (Activation)  (None, 64, 64, 32)        0         \n",
      "_________________________________________________________________\n",
      "batch_normalization_57 (Batc (None, 64, 64, 32)        128       \n",
      "_________________________________________________________________\n",
      "max_pooling2d_22 (MaxPooling (None, 21, 21, 32)        0         \n",
      "_________________________________________________________________\n",
      "dropout_24 (Dropout)         (None, 21, 21, 32)        0         \n",
      "_________________________________________________________________\n",
      "conv2d_55 (Conv2D)           (None, 21, 21, 64)        18496     \n",
      "_________________________________________________________________\n",
      "activation_102 (Activation)  (None, 21, 21, 64)        0         \n",
      "_________________________________________________________________\n",
      "batch_normalization_58 (Batc (None, 21, 21, 64)        256       \n",
      "_________________________________________________________________\n",
      "conv2d_56 (Conv2D)           (None, 21, 21, 64)        36928     \n",
      "_________________________________________________________________\n",
      "activation_103 (Activation)  (None, 21, 21, 64)        0         \n",
      "_________________________________________________________________\n",
      "flatten_17 (Flatten)         (None, 28224)             0         \n",
      "_________________________________________________________________\n",
      "dense_48 (Dense)             (None, 128)               3612800   \n",
      "_________________________________________________________________\n",
      "activation_104 (Activation)  (None, 128)               0         \n",
      "_________________________________________________________________\n",
      "batch_normalization_59 (Batc (None, 128)               512       \n",
      "_________________________________________________________________\n",
      "dense_49 (Dense)             (None, 10)                1290      \n",
      "_________________________________________________________________\n",
      "activation_105 (Activation)  (None, 10)                0         \n",
      "=================================================================\n",
      "Total params: 3,671,306\n",
      "Trainable params: 3,670,858\n",
      "Non-trainable params: 448\n",
      "_________________________________________________________________\n",
      "Model: \"sequential_18\"\n",
      "_________________________________________________________________\n",
      "Layer (type)                 Output Shape              Param #   \n",
      "=================================================================\n",
      "conv2d_54 (Conv2D)           (None, 64, 64, 32)        896       \n",
      "_________________________________________________________________\n",
      "activation_101 (Activation)  (None, 64, 64, 32)        0         \n",
      "_________________________________________________________________\n",
      "batch_normalization_57 (Batc (None, 64, 64, 32)        128       \n",
      "_________________________________________________________________\n",
      "max_pooling2d_22 (MaxPooling (None, 21, 21, 32)        0         \n",
      "_________________________________________________________________\n",
      "dropout_24 (Dropout)         (None, 21, 21, 32)        0         \n",
      "_________________________________________________________________\n",
      "conv2d_55 (Conv2D)           (None, 21, 21, 64)        18496     \n",
      "_________________________________________________________________\n",
      "activation_102 (Activation)  (None, 21, 21, 64)        0         \n",
      "_________________________________________________________________\n",
      "batch_normalization_58 (Batc (None, 21, 21, 64)        256       \n",
      "_________________________________________________________________\n",
      "conv2d_56 (Conv2D)           (None, 21, 21, 64)        36928     \n",
      "_________________________________________________________________\n",
      "activation_103 (Activation)  (None, 21, 21, 64)        0         \n",
      "_________________________________________________________________\n",
      "flatten_17 (Flatten)         (None, 28224)             0         \n",
      "_________________________________________________________________\n",
      "dense_48 (Dense)             (None, 128)               3612800   \n",
      "_________________________________________________________________\n",
      "activation_104 (Activation)  (None, 128)               0         \n",
      "_________________________________________________________________\n",
      "batch_normalization_59 (Batc (None, 128)               512       \n",
      "_________________________________________________________________\n",
      "dense_49 (Dense)             (None, 10)                1290      \n",
      "_________________________________________________________________\n",
      "activation_105 (Activation)  (None, 10)                0         \n",
      "_________________________________________________________________\n",
      "dense_50 (Dense)             (None, 10)                110       \n",
      "_________________________________________________________________\n",
      "activation_106 (Activation)  (None, 10)                0         \n",
      "=================================================================\n",
      "Total params: 3,671,306\n",
      "Trainable params: 3,670,858\n",
      "Non-trainable params: 448\n",
      "_________________________________________________________________\n"
     ]
    },
    {
     "name": "stderr",
     "output_type": "stream",
     "text": [
      "/usr/local/lib/python3.6/dist-packages/keras/engine/training.py:493: UserWarning: Discrepancy between trainable weights and collected trainable weights, did you set `model.trainable` without calling `model.compile` after ?\n",
      "  'Discrepancy between trainable weights and collected trainable'\n"
     ]
    }
   ],
   "source": [
    "model = Sequential()\n",
    "chanDim = -1\n",
    "\n",
    "if K.image_data_format() == \"channels_first\":\n",
    "    chanDim = 1\n",
    "model.add(Conv2D(32, (3, 3), padding=\"same\", input_shape=X_train.shape[1:]))\n",
    "model.add(Activation(\"relu\"))\n",
    "model.add(BatchNormalization(axis=chanDim))\n",
    "model.add(MaxPooling2D(pool_size=(3, 3)))\n",
    "model.add(Dropout(0.25))\n",
    "model.add(Conv2D(64, (3, 3), padding=\"same\"))\n",
    "model.add(Activation(\"relu\"))\n",
    "model.add(BatchNormalization(axis=chanDim))\n",
    "model.add(Conv2D(64, (3, 3), padding=\"same\"))\n",
    "model.add(Activation(\"relu\"))\n",
    "model.add(Flatten())\n",
    "model.add(Dense(128)) # Probar con 28\n",
    "model.add(Activation(\"relu\"))\n",
    "model.add(BatchNormalization())\n",
    "model.add(Dense(num_classes))\n",
    "model.add(Activation(\"softmax\"))\n",
    "\n",
    "model.summary()\n",
    "\n",
    "# CNN params\n",
    "plot_losses = livelossplot.PlotLossesKeras()\n",
    "\n",
    "EPOCHS = 18\n",
    "INIT_LR = 1e-3\n",
    "BS = 32\n",
    "opt = Adam(lr=INIT_LR, decay=INIT_LR / EPOCHS)\n",
    "\n",
    "#Training the model\n",
    "\n",
    "model.compile(loss='categorical_crossentropy',\n",
    "                optimizer=opt, metrics=['accuracy'])"
   ]
  },
  {
   "cell_type": "code",
   "execution_count": 244,
   "metadata": {
    "colab": {
     "base_uri": "https://localhost:8080/",
     "height": 465
    },
    "colab_type": "code",
    "id": "zICzW4VZdJLr",
    "outputId": "42ae4ffc-80f7-40d1-8429-846a7f969054"
   },
   "outputs": [
    {
     "data": {
      "image/png": "[encoded data removed]",
      "text/plain": [
       "<Figure size 864x576 with 2 Axes>"
      ]
     },
     "metadata": {
      "tags": []
     },
     "output_type": "display_data"
    },
    {
     "name": "stdout",
     "output_type": "stream",
     "text": [
      "Log-loss (cost function):\n",
      "training   (min:    0.134, max:    1.450, cur:    0.134)\n",
      "validation (min:    0.138, max:    0.996, cur:    0.138)\n",
      "\n",
      "Accuracy:\n",
      "training   (min:    0.660, max:    0.929, cur:    0.929)\n",
      "validation (min:    0.702, max:    0.932, cur:    0.930)\n"
     ]
    },
    {
     "data": {
      "text/plain": [
       "<keras.callbacks.History at 0x7f3f7781f0b8>"
      ]
     },
     "execution_count": 244,
     "metadata": {
      "tags": []
     },
     "output_type": "execute_result"
    }
   ],
   "source": [
    "%time\n",
    "model.fit(X_train, y_train,\n",
    "        batch_size=BS,\n",
    "        epochs=EPOCHS,\n",
    "        callbacks=[plot_losses],\n",
    "        verbose=1,\n",
    "        validation_data=(X_test, y_test))"
   ]
  },
  {
   "cell_type": "code",
   "execution_count": 245,
   "metadata": {
    "colab": {
     "base_uri": "https://localhost:8080/",
     "height": 52
    },
    "colab_type": "code",
    "id": "6hzYdH5xf-Gx",
    "outputId": "40b39285-ff1b-4b53-e1c4-0ef0aaee4594"
   },
   "outputs": [
    {
     "name": "stdout",
     "output_type": "stream",
     "text": [
      "Test loss: 0.13802841036695437\n",
      "Test accuracy: 0.9302711676812396\n"
     ]
    }
   ],
   "source": [
    "score = model.evaluate(X_test, y_test, verbose=0)\n",
    "print('Test loss:', score[0])\n",
    "print('Test accuracy:', score[1])"
   ]
  },
  {
   "cell_type": "code",
   "execution_count": 0,
   "metadata": {
    "colab": {},
    "colab_type": "code",
    "id": "8NpA_DP3UhZR"
   },
   "outputs": [],
   "source": [
    "#Modelo\n",
    "model.save('bien_menos_cuchillo.h5')"
   ]
  },
  {
   "cell_type": "code",
   "execution_count": 0,
   "metadata": {
    "colab": {},
    "colab_type": "code",
    "id": "KMqkokRZl26z"
   },
   "outputs": [],
   "source": [
    "from keras.models import load_model \n",
    "model.save('second_model.h5')"
   ]
  },
  {
   "cell_type": "code",
   "execution_count": 0,
   "metadata": {
    "colab": {},
    "colab_type": "code",
    "id": "OUjH0mO4mN5e"
   },
   "outputs": [],
   "source": [
    "import json\n",
    "model_json = model.to_json()\n",
    "with open(\"second2_model.json\", \"w\") as json_file:\n",
    "    json_file.write(model_json)\n",
    "model.save_weights(\"second2_model.h5\")"
   ]
  },
  {
   "cell_type": "markdown",
   "metadata": {},
   "source": [
    "# Checking model accuracy"
   ]
  },
  {
   "cell_type": "code",
   "execution_count": 0,
   "metadata": {
    "colab": {},
    "colab_type": "code",
    "id": "xPSrxNbKm-s2"
   },
   "outputs": [],
   "source": [
    "Y_pred = model.predict(X_test)"
   ]
  },
  {
   "cell_type": "code",
   "execution_count": 247,
   "metadata": {
    "colab": {
     "base_uri": "https://localhost:8080/",
     "height": 548
    },
    "colab_type": "code",
    "id": "SEMV3hSpdQEX",
    "outputId": "ed35ab6d-76e7-46f8-81ed-819524fcb906"
   },
   "outputs": [
    {
     "name": "stdout",
     "output_type": "stream",
     "text": [
      "[6 7 9 ... 9 6 0]\n",
      "[6 7 9 ... 9 6 0]\n"
     ]
    },
    {
     "data": {
      "image/png": "[encoded data removed]",
      "text/plain": [
       "<Figure size 576x576 with 2 Axes>"
      ]
     },
     "metadata": {
      "tags": []
     },
     "output_type": "display_data"
    }
   ],
   "source": [
    "import matplotlib.pyplot as plt\n",
    "# Convert predictions classes to one hot vectors \n",
    "Y_pred_classes = np.argmax(Y_pred,axis = 1) \n",
    "# Convert validation observations to one hot vectors\n",
    "print(Y_pred_classes)\n",
    "Y_true = np.argmax(y_test,axis = 1)\n",
    "print(Y_true)\n",
    "# compute the confusion matrix\n",
    "cm = confusion_matrix(Y_true, Y_pred_classes)\n",
    "cm = cm.astype('float') / cm.sum(axis=1)[:, np.newaxis]\n",
    "# plot the confusion matrix\n",
    "f,ax = plt.subplots(figsize=(8, 8))\n",
    "sns.heatmap(cm, annot=True, linewidths=0.01,cmap=\"YlGnBu\",linecolor=\"gray\", fmt= '.1f',ax=ax)\n",
    "plt.xlabel(\"Predicted Label\")\n",
    "plt.ylabel(\"True Label\")\n",
    "plt.title(\"Confusion Matrix\")\n",
    "plt.show();"
   ]
  },
  {
   "cell_type": "markdown",
   "metadata": {},
   "source": [
    "### Cheking on test sample"
   ]
  },
  {
   "cell_type": "code",
   "execution_count": 0,
   "metadata": {
    "colab": {},
    "colab_type": "code",
    "id": "FVglZCW3nHuw"
   },
   "outputs": [],
   "source": [
    "class_names = list(dummies.columns)[:-1]"
   ]
  },
  {
   "cell_type": "code",
   "execution_count": 249,
   "metadata": {
    "colab": {
     "base_uri": "https://localhost:8080/",
     "height": 494
    },
    "colab_type": "code",
    "id": "YszFR3IunU0w",
    "outputId": "704a4e2a-75d6-495e-e0a0-83d03d3311a1"
   },
   "outputs": [
    {
     "name": "stdout",
     "output_type": "stream",
     "text": [
      "[2.2192882e-05 1.1544675e-05 9.9316591e-01 2.1292595e-05 2.0851883e-05\n",
      " 2.4832292e-05 6.6848472e-03 3.0041374e-05 4.8704219e-06 1.3624738e-05]\n",
      "cuchara: 0.0\n",
      "cuchillo: 0.0\n",
      "cuenco: 0.9900000095367432\n",
      "hervidor: 0.0\n",
      "pelador: 0.0\n",
      "ruido: 0.0\n",
      "sarten: 0.009999999776482582\n",
      "taza: 0.0\n",
      "tenedor: 0.0\n",
      "tostadora: 0.0\n",
      "(1, 64, 64, 3)\n"
     ]
    },
    {
     "data": {
      "image/png": "[encoded data removed]",
      "text/plain": [
       "<Figure size 432x288 with 1 Axes>"
      ]
     },
     "metadata": {
      "tags": []
     },
     "output_type": "display_data"
    }
   ],
   "source": [
    "%matplotlib inline\n",
    "import matplotlib.pyplot as plt\n",
    "from PIL import Image\n",
    "\n",
    "img = X_test[150]\n",
    "pred = model.predict(np.expand_dims(img,axis=0))[0]\n",
    "print(pred)\n",
    "for obj in class_names:\n",
    "    print(f'{obj}: {round(pred[class_names.index(obj)],2)}')\n",
    "print(np.expand_dims(img,axis=0).shape)\n",
    "plt.imshow(img);"
   ]
  },
  {
   "cell_type": "markdown",
   "metadata": {},
   "source": [
    "### Cheking on outsider sample"
   ]
  },
  {
   "cell_type": "markdown",
   "metadata": {
    "colab_type": "text",
    "id": "52nan_BJ6bXB"
   },
   "source": [
    "TEST 1:"
   ]
  },
  {
   "cell_type": "code",
   "execution_count": 250,
   "metadata": {
    "colab": {
     "base_uri": "https://localhost:8080/",
     "height": 86
    },
    "colab_type": "code",
    "id": "Lqcu_f6VnXOP",
    "outputId": "d7c56a83-0d7a-487d-8d24-faf0a664fbbe"
   },
   "outputs": [
    {
     "name": "stdout",
     "output_type": "stream",
     "text": [
      "(3968, 1984, 3)\n",
      "(64, 64, 3)\n",
      "<class 'numpy.ndarray'>\n",
      "(64, 64, 3)\n"
     ]
    }
   ],
   "source": [
    "import cv2\n",
    "prueba1 = cv2.imread('/content/drive/My Drive/Proyecto/dataset/new_data/cuchara.jpg')\n",
    "print(prueba1.shape)\n",
    "prueba1 = cv2.resize(prueba1,(64,64))\n",
    "print(prueba1.shape)\n",
    "print(type(prueba1))\n",
    "print(prueba1.shape)\n",
    "prueba1 = prueba1.astype('float32') / 255"
   ]
  },
  {
   "cell_type": "code",
   "execution_count": 251,
   "metadata": {
    "colab": {
     "base_uri": "https://localhost:8080/",
     "height": 494
    },
    "colab_type": "code",
    "id": "k5DFahlToDdG",
    "outputId": "14d610b3-eec5-4417-c4f0-ec195f38a45c"
   },
   "outputs": [
    {
     "name": "stdout",
     "output_type": "stream",
     "text": [
      "[5.5076075e-01 4.4315574e-01 4.0898443e-04 3.2159797e-04 1.2170193e-03\n",
      " 3.3230465e-04 4.3043672e-04 4.2263212e-04 2.6294561e-03 3.2109825e-04]\n",
      "cuchara: 0.550000011920929\n",
      "cuchillo: 0.4399999976158142\n",
      "cuenco: 0.0\n",
      "hervidor: 0.0\n",
      "pelador: 0.0\n",
      "ruido: 0.0\n",
      "sarten: 0.0\n",
      "taza: 0.0\n",
      "tenedor: 0.0\n",
      "tostadora: 0.0\n",
      "(1, 64, 64, 3)\n"
     ]
    },
    {
     "data": {
      "image/png": "[encoded data removed]",
      "text/plain": [
       "<Figure size 432x288 with 1 Axes>"
      ]
     },
     "metadata": {
      "tags": []
     },
     "output_type": "display_data"
    }
   ],
   "source": [
    "%matplotlib inline\n",
    "import matplotlib.pyplot as plt\n",
    "from PIL import Image\n",
    "\n",
    "img = prueba1\n",
    "pred = model.predict(np.expand_dims(img,axis=0))[0]\n",
    "print(pred)\n",
    "for obj in class_names:\n",
    "    print(f'{obj}: {round(pred[class_names.index(obj)],2)}')\n",
    "print(np.expand_dims(img,axis=0).shape)\n",
    "plt.imshow(img);"
   ]
  },
  {
   "cell_type": "markdown",
   "metadata": {
    "colab_type": "text",
    "id": "GaC3pMhb7FJf"
   },
   "source": [
    "TEST 2:"
   ]
  },
  {
   "cell_type": "code",
   "execution_count": 252,
   "metadata": {
    "colab": {
     "base_uri": "https://localhost:8080/",
     "height": 86
    },
    "colab_type": "code",
    "id": "BON0Ll3Uojk0",
    "outputId": "cf0876d5-fdb9-425a-8ebf-edac5550df60"
   },
   "outputs": [
    {
     "name": "stdout",
     "output_type": "stream",
     "text": [
      "(1984, 3968, 3)\n",
      "(64, 64, 3)\n",
      "<class 'numpy.ndarray'>\n",
      "(64, 64, 3)\n"
     ]
    }
   ],
   "source": [
    "import cv2\n",
    "prueba2 = cv2.imread('/content/drive/My Drive/Proyecto/dataset/new_data/cuchillo.jpg')\n",
    "print(prueba2.shape)\n",
    "prueba2 = cv2.resize(prueba2,(64,64))\n",
    "print(prueba2.shape)\n",
    "print(type(prueba2))\n",
    "print(prueba2.shape)\n",
    "prueba2 = prueba2.astype('float32') / 255"
   ]
  },
  {
   "cell_type": "code",
   "execution_count": 253,
   "metadata": {
    "colab": {
     "base_uri": "https://localhost:8080/",
     "height": 494
    },
    "colab_type": "code",
    "id": "U63bV5_kozD5",
    "outputId": "e34a8a0a-7505-4961-93cf-e13d3530728c"
   },
   "outputs": [
    {
     "name": "stdout",
     "output_type": "stream",
     "text": [
      "[0.0122208  0.00857305 0.03962401 0.00654282 0.00620246 0.10997271\n",
      " 0.796303   0.00728127 0.0042136  0.00906635]\n",
      "cuchara: 0.009999999776482582\n",
      "cuchillo: 0.009999999776482582\n",
      "cuenco: 0.03999999910593033\n",
      "hervidor: 0.009999999776482582\n",
      "pelador: 0.009999999776482582\n",
      "ruido: 0.10999999940395355\n",
      "sarten: 0.800000011920929\n",
      "taza: 0.009999999776482582\n",
      "tenedor: 0.0\n",
      "tostadora: 0.009999999776482582\n",
      "(1, 64, 64, 3)\n"
     ]
    },
    {
     "data": {
      "image/png": "[encoded data removed]",
      "text/plain": [
       "<Figure size 432x288 with 1 Axes>"
      ]
     },
     "metadata": {
      "tags": []
     },
     "output_type": "display_data"
    }
   ],
   "source": [
    "%matplotlib inline\n",
    "import matplotlib.pyplot as plt\n",
    "from PIL import Image\n",
    "\n",
    "img = prueba2\n",
    "pred = model.predict(np.expand_dims(img,axis=0))[0]\n",
    "print(pred)\n",
    "for obj in class_names:\n",
    "    print(f'{obj}: {round(pred[class_names.index(obj)],2)}')\n",
    "print(np.expand_dims(img,axis=0).shape)\n",
    "plt.imshow(img);"
   ]
  },
  {
   "cell_type": "markdown",
   "metadata": {
    "colab_type": "text",
    "id": "sbIin_bv7IHF"
   },
   "source": [
    "TEST 3:"
   ]
  },
  {
   "cell_type": "code",
   "execution_count": 254,
   "metadata": {
    "colab": {
     "base_uri": "https://localhost:8080/",
     "height": 86
    },
    "colab_type": "code",
    "id": "qqDDZ4R_o1rJ",
    "outputId": "930f7ee0-135b-4b6e-d7ae-0e9326981120"
   },
   "outputs": [
    {
     "name": "stdout",
     "output_type": "stream",
     "text": [
      "(1984, 3968, 3)\n",
      "(64, 64, 3)\n",
      "<class 'numpy.ndarray'>\n",
      "(64, 64, 3)\n"
     ]
    }
   ],
   "source": [
    "import cv2\n",
    "prueba3 = cv2.imread('/content/drive/My Drive/Proyecto/dataset/new_data/cuenco.jpg')\n",
    "print(prueba3.shape)\n",
    "prueba3 = cv2.resize(prueba3,(64,64))\n",
    "print(prueba3.shape)\n",
    "print(type(prueba3))\n",
    "print(prueba3.shape)\n",
    "prueba3 = prueba3.astype('float32') / 255"
   ]
  },
  {
   "cell_type": "code",
   "execution_count": 255,
   "metadata": {
    "colab": {
     "base_uri": "https://localhost:8080/",
     "height": 494
    },
    "colab_type": "code",
    "id": "Ae9Vj_lDo79D",
    "outputId": "a5d3f269-ca24-4b71-cf1e-7a503c0c1bb3"
   },
   "outputs": [
    {
     "name": "stdout",
     "output_type": "stream",
     "text": [
      "[2.2247010e-05 1.1574511e-05 9.9314922e-01 2.1339845e-05 2.0904932e-05\n",
      " 2.4887875e-05 6.7010815e-03 3.0108988e-05 4.8827897e-06 1.3657643e-05]\n",
      "cuchara: 0.0\n",
      "cuchillo: 0.0\n",
      "cuenco: 0.9900000095367432\n",
      "hervidor: 0.0\n",
      "pelador: 0.0\n",
      "ruido: 0.0\n",
      "sarten: 0.009999999776482582\n",
      "taza: 0.0\n",
      "tenedor: 0.0\n",
      "tostadora: 0.0\n",
      "(1, 64, 64, 3)\n"
     ]
    },
    {
     "data": {
      "image/png": "[encoded data removed]",
      "text/plain": [
       "<Figure size 432x288 with 1 Axes>"
      ]
     },
     "metadata": {
      "tags": []
     },
     "output_type": "display_data"
    }
   ],
   "source": [
    "%matplotlib inline\n",
    "import matplotlib.pyplot as plt\n",
    "from PIL import Image\n",
    "\n",
    "img = prueba3\n",
    "pred = model.predict(np.expand_dims(img,axis=0))[0]\n",
    "print(pred)\n",
    "for obj in class_names:\n",
    "    print(f'{obj}: {round(pred[class_names.index(obj)],2)}')\n",
    "print(np.expand_dims(img,axis=0).shape)\n",
    "plt.imshow(img);"
   ]
  },
  {
   "cell_type": "markdown",
   "metadata": {
    "colab_type": "text",
    "id": "V6eKBDJC7VJT"
   },
   "source": [
    "TEST 4:"
   ]
  },
  {
   "cell_type": "code",
   "execution_count": 256,
   "metadata": {
    "colab": {
     "base_uri": "https://localhost:8080/",
     "height": 86
    },
    "colab_type": "code",
    "id": "yvPdjJrpo-EM",
    "outputId": "c059767c-8197-4265-8065-7019be0e4a13"
   },
   "outputs": [
    {
     "name": "stdout",
     "output_type": "stream",
     "text": [
      "(1984, 3968, 3)\n",
      "(64, 64, 3)\n",
      "<class 'numpy.ndarray'>\n",
      "(64, 64, 3)\n"
     ]
    }
   ],
   "source": [
    "prueba4 = cv2.imread('/content/drive/My Drive/Proyecto/dataset/new_data/cuenco2.jpg')\n",
    "print(prueba4.shape)\n",
    "prueba4 = cv2.resize(prueba4,(64,64))\n",
    "print(prueba4.shape)\n",
    "print(type(prueba4))\n",
    "print(prueba4.shape)\n",
    "prueba4 = prueba4.astype('float32') / 255"
   ]
  },
  {
   "cell_type": "code",
   "execution_count": 257,
   "metadata": {
    "colab": {
     "base_uri": "https://localhost:8080/",
     "height": 494
    },
    "colab_type": "code",
    "id": "3wsxDk0rpJvt",
    "outputId": "059c5e88-cd29-4f3d-9ee1-a3aef24ba738"
   },
   "outputs": [
    {
     "name": "stdout",
     "output_type": "stream",
     "text": [
      "[1.2883298e-03 6.8177731e-04 9.2884880e-01 9.0402435e-04 7.4661995e-04\n",
      " 1.2474202e-03 4.2821486e-02 1.1112756e-03 2.9343524e-04 2.2056906e-02]\n",
      "cuchara: 0.0\n",
      "cuchillo: 0.0\n",
      "cuenco: 0.9300000071525574\n",
      "hervidor: 0.0\n",
      "pelador: 0.0\n",
      "ruido: 0.0\n",
      "sarten: 0.03999999910593033\n",
      "taza: 0.0\n",
      "tenedor: 0.0\n",
      "tostadora: 0.019999999552965164\n",
      "(1, 64, 64, 3)\n"
     ]
    },
    {
     "data": {
      "image/png": "[encoded data removed]",
      "text/plain": [
       "<Figure size 432x288 with 1 Axes>"
      ]
     },
     "metadata": {
      "tags": []
     },
     "output_type": "display_data"
    }
   ],
   "source": [
    "%matplotlib inline\n",
    "import matplotlib.pyplot as plt\n",
    "from PIL import Image\n",
    "\n",
    "img = prueba4\n",
    "pred = model.predict(np.expand_dims(img,axis=0))[0]\n",
    "print(pred)\n",
    "for obj in class_names:\n",
    "    print(f'{obj}: {round(pred[class_names.index(obj)],2)}')\n",
    "print(np.expand_dims(img,axis=0).shape)\n",
    "plt.imshow(img);"
   ]
  },
  {
   "cell_type": "markdown",
   "metadata": {},
   "source": [
    "TEST 5:"
   ]
  },
  {
   "cell_type": "code",
   "execution_count": 258,
   "metadata": {
    "colab": {
     "base_uri": "https://localhost:8080/",
     "height": 86
    },
    "colab_type": "code",
    "id": "9GYkj7hlpL7h",
    "outputId": "bbb54140-1760-4c46-c80a-f26e4f3d1d6c"
   },
   "outputs": [
    {
     "name": "stdout",
     "output_type": "stream",
     "text": [
      "(1984, 3968, 3)\n",
      "(64, 64, 3)\n",
      "<class 'numpy.ndarray'>\n",
      "(64, 64, 3)\n"
     ]
    }
   ],
   "source": [
    "prueba5 = cv2.imread('/content/drive/My Drive/Proyecto/dataset/new_data/pelador.jpg')\n",
    "print(prueba5.shape)\n",
    "prueba5 = cv2.resize(prueba5,(64,64))\n",
    "print(prueba5.shape)\n",
    "print(type(prueba5))\n",
    "print(prueba5.shape)\n",
    "prueba5 = prueba5.astype('float32') / 255"
   ]
  },
  {
   "cell_type": "code",
   "execution_count": 259,
   "metadata": {
    "colab": {
     "base_uri": "https://localhost:8080/",
     "height": 494
    },
    "colab_type": "code",
    "id": "_9Pq3UqMpSNF",
    "outputId": "d9599aa6-5b28-498a-ae2b-ffb355be3231"
   },
   "outputs": [
    {
     "name": "stdout",
     "output_type": "stream",
     "text": [
      "[2.3419701e-03 1.7146920e-03 2.5363979e-03 4.8111170e-04 9.8872668e-01\n",
      " 1.6917336e-03 5.6987372e-04 5.0363969e-04 7.3120563e-04 7.0275011e-04]\n",
      "cuchara: 0.0\n",
      "cuchillo: 0.0\n",
      "cuenco: 0.0\n",
      "hervidor: 0.0\n",
      "pelador: 0.9900000095367432\n",
      "ruido: 0.0\n",
      "sarten: 0.0\n",
      "taza: 0.0\n",
      "tenedor: 0.0\n",
      "tostadora: 0.0\n",
      "(1, 64, 64, 3)\n"
     ]
    },
    {
     "data": {
      "image/png": "[encoded data removed]",
      "text/plain": [
       "<Figure size 432x288 with 1 Axes>"
      ]
     },
     "metadata": {
      "tags": []
     },
     "output_type": "display_data"
    }
   ],
   "source": [
    "%matplotlib inline\n",
    "import matplotlib.pyplot as plt\n",
    "from PIL import Image\n",
    "\n",
    "img = prueba5\n",
    "pred = model.predict(np.expand_dims(img,axis=0))[0]\n",
    "print(pred)\n",
    "for obj in class_names:\n",
    "    print(f'{obj}: {round(pred[class_names.index(obj)],2)}')\n",
    "print(np.expand_dims(img,axis=0).shape)\n",
    "plt.imshow(img);"
   ]
  }
 ],
 "metadata": {
  "accelerator": "GPU",
  "colab": {
   "collapsed_sections": [],
   "name": "second_modelTraining_data1.ipynb",
   "provenance": []
  },
  "kernelspec": {
   "display_name": "Python 3",
   "language": "python",
   "name": "python3"
  },
  "language_info": {
   "codemirror_mode": {
    "name": "ipython",
    "version": 3
   },
   "file_extension": ".py",
   "mimetype": "text/x-python",
   "name": "python",
   "nbconvert_exporter": "python",
   "pygments_lexer": "ipython3",
   "version": "3.6.9"
  }
 },
 "nbformat": 4,
 "nbformat_minor": 1
}
