{
 "cells": [
  {
   "cell_type": "code",
   "execution_count": 1,
   "metadata": {},
   "outputs": [
    {
     "name": "stderr",
     "output_type": "stream",
     "text": [
      "Using TensorFlow backend.\n"
     ]
    }
   ],
   "source": [
    "from __future__ import print_function\n",
    "import keras\n",
    "from keras.models import Sequential\n",
    "from keras.layers import Dense, Dropout, Flatten\n",
    "from keras.layers import Conv2D, MaxPooling2D\n",
    "from keras import backend as K\n",
    "import pandas as pd\n",
    "import numpy as np\n",
    "import pickle\n",
    "from sklearn.model_selection import train_test_split"
   ]
  },
  {
   "cell_type": "markdown",
   "metadata": {},
   "source": [
    "# Tratamiento dataset"
   ]
  },
  {
   "cell_type": "code",
   "execution_count": 2,
   "metadata": {},
   "outputs": [
    {
     "data": {
      "text/plain": [
       "(28448, 3)"
      ]
     },
     "execution_count": 2,
     "metadata": {},
     "output_type": "execute_result"
    }
   ],
   "source": [
    "kitchenware = pickle.load(open('../dataset/dataset.pkl', 'rb'))\n",
    "kitchenware.values.shape"
   ]
  },
  {
   "cell_type": "code",
   "execution_count": 3,
   "metadata": {},
   "outputs": [
    {
     "data": {
      "text/html": [
       "<div>\n",
       "<style scoped>\n",
       "    .dataframe tbody tr th:only-of-type {\n",
       "        vertical-align: middle;\n",
       "    }\n",
       "\n",
       "    .dataframe tbody tr th {\n",
       "        vertical-align: top;\n",
       "    }\n",
       "\n",
       "    .dataframe thead th {\n",
       "        text-align: right;\n",
       "    }\n",
       "</style>\n",
       "<table border=\"1\" class=\"dataframe\">\n",
       "  <thead>\n",
       "    <tr style=\"text-align: right;\">\n",
       "      <th></th>\n",
       "      <th>label</th>\n",
       "      <th>image</th>\n",
       "      <th>path</th>\n",
       "    </tr>\n",
       "  </thead>\n",
       "  <tbody>\n",
       "    <tr>\n",
       "      <th>0</th>\n",
       "      <td>rodillo</td>\n",
       "      <td>[[[200, 207, 204], [241, 248, 245], [147, 153,...</td>\n",
       "      <td>../dataset/images/rodillo/images_red/rodillo_3...</td>\n",
       "    </tr>\n",
       "    <tr>\n",
       "      <th>1</th>\n",
       "      <td>rodillo</td>\n",
       "      <td>[[[29, 34, 33], [38, 42, 43], [177, 178, 182],...</td>\n",
       "      <td>../dataset/images/rodillo/images_red/rodillo_7...</td>\n",
       "    </tr>\n",
       "    <tr>\n",
       "      <th>2</th>\n",
       "      <td>rodillo</td>\n",
       "      <td>[[[95, 132, 160], [99, 136, 164], [108, 141, 1...</td>\n",
       "      <td>../dataset/images/rodillo/images_red/rodillo85...</td>\n",
       "    </tr>\n",
       "    <tr>\n",
       "      <th>3</th>\n",
       "      <td>rodillo</td>\n",
       "      <td>[[[77, 80, 78], [80, 83, 81], [90, 90, 90], [8...</td>\n",
       "      <td>../dataset/images/rodillo/images_red/rodillo_2...</td>\n",
       "    </tr>\n",
       "    <tr>\n",
       "      <th>4</th>\n",
       "      <td>rodillo</td>\n",
       "      <td>[[[94, 98, 99], [97, 101, 102], [98, 102, 103]...</td>\n",
       "      <td>../dataset/images/rodillo/images_red/rodillo_1...</td>\n",
       "    </tr>\n",
       "  </tbody>\n",
       "</table>\n",
       "</div>"
      ],
      "text/plain": [
       "     label                                              image  \\\n",
       "0  rodillo  [[[200, 207, 204], [241, 248, 245], [147, 153,...   \n",
       "1  rodillo  [[[29, 34, 33], [38, 42, 43], [177, 178, 182],...   \n",
       "2  rodillo  [[[95, 132, 160], [99, 136, 164], [108, 141, 1...   \n",
       "3  rodillo  [[[77, 80, 78], [80, 83, 81], [90, 90, 90], [8...   \n",
       "4  rodillo  [[[94, 98, 99], [97, 101, 102], [98, 102, 103]...   \n",
       "\n",
       "                                                path  \n",
       "0  ../dataset/images/rodillo/images_red/rodillo_3...  \n",
       "1  ../dataset/images/rodillo/images_red/rodillo_7...  \n",
       "2  ../dataset/images/rodillo/images_red/rodillo85...  \n",
       "3  ../dataset/images/rodillo/images_red/rodillo_2...  \n",
       "4  ../dataset/images/rodillo/images_red/rodillo_1...  "
      ]
     },
     "execution_count": 3,
     "metadata": {},
     "output_type": "execute_result"
    }
   ],
   "source": [
    "kitchenware.head()"
   ]
  },
  {
   "cell_type": "markdown",
   "metadata": {},
   "source": [
    "Convertimos las etiquetas en binario para que el modelo nos devuelva el porcentaje de predicción para cada objeto"
   ]
  },
  {
   "cell_type": "code",
   "execution_count": 4,
   "metadata": {},
   "outputs": [],
   "source": [
    "dummies = pd.get_dummies(kitchenware['label'])"
   ]
  },
  {
   "cell_type": "code",
   "execution_count": 5,
   "metadata": {},
   "outputs": [
    {
     "data": {
      "text/html": [
       "<div>\n",
       "<style scoped>\n",
       "    .dataframe tbody tr th:only-of-type {\n",
       "        vertical-align: middle;\n",
       "    }\n",
       "\n",
       "    .dataframe tbody tr th {\n",
       "        vertical-align: top;\n",
       "    }\n",
       "\n",
       "    .dataframe thead th {\n",
       "        text-align: right;\n",
       "    }\n",
       "</style>\n",
       "<table border=\"1\" class=\"dataframe\">\n",
       "  <thead>\n",
       "    <tr style=\"text-align: right;\">\n",
       "      <th></th>\n",
       "      <th>cuchara</th>\n",
       "      <th>cuchillo</th>\n",
       "      <th>cuenco</th>\n",
       "      <th>hervidor</th>\n",
       "      <th>otro</th>\n",
       "      <th>pelador</th>\n",
       "      <th>rodillo</th>\n",
       "      <th>tenedor</th>\n",
       "      <th>tostadora</th>\n",
       "      <th>vaso</th>\n",
       "    </tr>\n",
       "  </thead>\n",
       "  <tbody>\n",
       "    <tr>\n",
       "      <th>0</th>\n",
       "      <td>0</td>\n",
       "      <td>0</td>\n",
       "      <td>0</td>\n",
       "      <td>0</td>\n",
       "      <td>0</td>\n",
       "      <td>0</td>\n",
       "      <td>1</td>\n",
       "      <td>0</td>\n",
       "      <td>0</td>\n",
       "      <td>0</td>\n",
       "    </tr>\n",
       "    <tr>\n",
       "      <th>1</th>\n",
       "      <td>0</td>\n",
       "      <td>0</td>\n",
       "      <td>0</td>\n",
       "      <td>0</td>\n",
       "      <td>0</td>\n",
       "      <td>0</td>\n",
       "      <td>1</td>\n",
       "      <td>0</td>\n",
       "      <td>0</td>\n",
       "      <td>0</td>\n",
       "    </tr>\n",
       "    <tr>\n",
       "      <th>2</th>\n",
       "      <td>0</td>\n",
       "      <td>0</td>\n",
       "      <td>0</td>\n",
       "      <td>0</td>\n",
       "      <td>0</td>\n",
       "      <td>0</td>\n",
       "      <td>1</td>\n",
       "      <td>0</td>\n",
       "      <td>0</td>\n",
       "      <td>0</td>\n",
       "    </tr>\n",
       "    <tr>\n",
       "      <th>3</th>\n",
       "      <td>0</td>\n",
       "      <td>0</td>\n",
       "      <td>0</td>\n",
       "      <td>0</td>\n",
       "      <td>0</td>\n",
       "      <td>0</td>\n",
       "      <td>1</td>\n",
       "      <td>0</td>\n",
       "      <td>0</td>\n",
       "      <td>0</td>\n",
       "    </tr>\n",
       "    <tr>\n",
       "      <th>4</th>\n",
       "      <td>0</td>\n",
       "      <td>0</td>\n",
       "      <td>0</td>\n",
       "      <td>0</td>\n",
       "      <td>0</td>\n",
       "      <td>0</td>\n",
       "      <td>1</td>\n",
       "      <td>0</td>\n",
       "      <td>0</td>\n",
       "      <td>0</td>\n",
       "    </tr>\n",
       "  </tbody>\n",
       "</table>\n",
       "</div>"
      ],
      "text/plain": [
       "   cuchara  cuchillo  cuenco  hervidor  otro  pelador  rodillo  tenedor  \\\n",
       "0        0         0       0         0     0        0        1        0   \n",
       "1        0         0       0         0     0        0        1        0   \n",
       "2        0         0       0         0     0        0        1        0   \n",
       "3        0         0       0         0     0        0        1        0   \n",
       "4        0         0       0         0     0        0        1        0   \n",
       "\n",
       "   tostadora  vaso  \n",
       "0          0     0  \n",
       "1          0     0  \n",
       "2          0     0  \n",
       "3          0     0  \n",
       "4          0     0  "
      ]
     },
     "execution_count": 5,
     "metadata": {},
     "output_type": "execute_result"
    }
   ],
   "source": [
    "dummies.head()"
   ]
  },
  {
   "cell_type": "code",
   "execution_count": 6,
   "metadata": {},
   "outputs": [],
   "source": [
    "dummies['gt'] = dummies.apply(lambda x: pd.Series([x.values]), axis=1)"
   ]
  },
  {
   "cell_type": "markdown",
   "metadata": {},
   "source": [
    "Convertimos en vector"
   ]
  },
  {
   "cell_type": "code",
   "execution_count": 7,
   "metadata": {},
   "outputs": [
    {
     "data": {
      "text/html": [
       "<div>\n",
       "<style scoped>\n",
       "    .dataframe tbody tr th:only-of-type {\n",
       "        vertical-align: middle;\n",
       "    }\n",
       "\n",
       "    .dataframe tbody tr th {\n",
       "        vertical-align: top;\n",
       "    }\n",
       "\n",
       "    .dataframe thead th {\n",
       "        text-align: right;\n",
       "    }\n",
       "</style>\n",
       "<table border=\"1\" class=\"dataframe\">\n",
       "  <thead>\n",
       "    <tr style=\"text-align: right;\">\n",
       "      <th></th>\n",
       "      <th>cuchara</th>\n",
       "      <th>cuchillo</th>\n",
       "      <th>cuenco</th>\n",
       "      <th>hervidor</th>\n",
       "      <th>otro</th>\n",
       "      <th>pelador</th>\n",
       "      <th>rodillo</th>\n",
       "      <th>tenedor</th>\n",
       "      <th>tostadora</th>\n",
       "      <th>vaso</th>\n",
       "      <th>gt</th>\n",
       "    </tr>\n",
       "  </thead>\n",
       "  <tbody>\n",
       "    <tr>\n",
       "      <th>0</th>\n",
       "      <td>0</td>\n",
       "      <td>0</td>\n",
       "      <td>0</td>\n",
       "      <td>0</td>\n",
       "      <td>0</td>\n",
       "      <td>0</td>\n",
       "      <td>1</td>\n",
       "      <td>0</td>\n",
       "      <td>0</td>\n",
       "      <td>0</td>\n",
       "      <td>[0, 0, 0, 0, 0, 0, 1, 0, 0, 0]</td>\n",
       "    </tr>\n",
       "    <tr>\n",
       "      <th>1</th>\n",
       "      <td>0</td>\n",
       "      <td>0</td>\n",
       "      <td>0</td>\n",
       "      <td>0</td>\n",
       "      <td>0</td>\n",
       "      <td>0</td>\n",
       "      <td>1</td>\n",
       "      <td>0</td>\n",
       "      <td>0</td>\n",
       "      <td>0</td>\n",
       "      <td>[0, 0, 0, 0, 0, 0, 1, 0, 0, 0]</td>\n",
       "    </tr>\n",
       "    <tr>\n",
       "      <th>2</th>\n",
       "      <td>0</td>\n",
       "      <td>0</td>\n",
       "      <td>0</td>\n",
       "      <td>0</td>\n",
       "      <td>0</td>\n",
       "      <td>0</td>\n",
       "      <td>1</td>\n",
       "      <td>0</td>\n",
       "      <td>0</td>\n",
       "      <td>0</td>\n",
       "      <td>[0, 0, 0, 0, 0, 0, 1, 0, 0, 0]</td>\n",
       "    </tr>\n",
       "    <tr>\n",
       "      <th>3</th>\n",
       "      <td>0</td>\n",
       "      <td>0</td>\n",
       "      <td>0</td>\n",
       "      <td>0</td>\n",
       "      <td>0</td>\n",
       "      <td>0</td>\n",
       "      <td>1</td>\n",
       "      <td>0</td>\n",
       "      <td>0</td>\n",
       "      <td>0</td>\n",
       "      <td>[0, 0, 0, 0, 0, 0, 1, 0, 0, 0]</td>\n",
       "    </tr>\n",
       "    <tr>\n",
       "      <th>4</th>\n",
       "      <td>0</td>\n",
       "      <td>0</td>\n",
       "      <td>0</td>\n",
       "      <td>0</td>\n",
       "      <td>0</td>\n",
       "      <td>0</td>\n",
       "      <td>1</td>\n",
       "      <td>0</td>\n",
       "      <td>0</td>\n",
       "      <td>0</td>\n",
       "      <td>[0, 0, 0, 0, 0, 0, 1, 0, 0, 0]</td>\n",
       "    </tr>\n",
       "  </tbody>\n",
       "</table>\n",
       "</div>"
      ],
      "text/plain": [
       "   cuchara  cuchillo  cuenco  hervidor  otro  pelador  rodillo  tenedor  \\\n",
       "0        0         0       0         0     0        0        1        0   \n",
       "1        0         0       0         0     0        0        1        0   \n",
       "2        0         0       0         0     0        0        1        0   \n",
       "3        0         0       0         0     0        0        1        0   \n",
       "4        0         0       0         0     0        0        1        0   \n",
       "\n",
       "   tostadora  vaso                              gt  \n",
       "0          0     0  [0, 0, 0, 0, 0, 0, 1, 0, 0, 0]  \n",
       "1          0     0  [0, 0, 0, 0, 0, 0, 1, 0, 0, 0]  \n",
       "2          0     0  [0, 0, 0, 0, 0, 0, 1, 0, 0, 0]  \n",
       "3          0     0  [0, 0, 0, 0, 0, 0, 1, 0, 0, 0]  \n",
       "4          0     0  [0, 0, 0, 0, 0, 0, 1, 0, 0, 0]  "
      ]
     },
     "execution_count": 7,
     "metadata": {},
     "output_type": "execute_result"
    }
   ],
   "source": [
    "dummies.head()"
   ]
  },
  {
   "cell_type": "markdown",
   "metadata": {},
   "source": [
    "# Entrenamiento del modelo"
   ]
  },
  {
   "cell_type": "markdown",
   "metadata": {},
   "source": [
    "Asignamos las features a la X"
   ]
  },
  {
   "cell_type": "code",
   "execution_count": 8,
   "metadata": {},
   "outputs": [],
   "source": [
    "X = np.stack(kitchenware['image'])\n",
    "y = np.stack(dummies['gt'])"
   ]
  },
  {
   "cell_type": "code",
   "execution_count": 11,
   "metadata": {},
   "outputs": [
    {
     "name": "stdout",
     "output_type": "stream",
     "text": [
      "(28448, 64, 64, 3)\n",
      "(28448, 10)\n"
     ]
    }
   ],
   "source": [
    "print(X.shape)\n",
    "print(y.shape)"
   ]
  },
  {
   "cell_type": "markdown",
   "metadata": {},
   "source": [
    "Dividimos los datos en entrenamiento y test"
   ]
  },
  {
   "cell_type": "code",
   "execution_count": 12,
   "metadata": {},
   "outputs": [],
   "source": [
    "X_train, X_test, y_train, y_test = train_test_split(X, y, test_size=0.2)"
   ]
  },
  {
   "cell_type": "code",
   "execution_count": 16,
   "metadata": {},
   "outputs": [
    {
     "name": "stdout",
     "output_type": "stream",
     "text": [
      "(5690, 64, 64, 3)\n"
     ]
    }
   ],
   "source": [
    "print(X_test.shape)"
   ]
  },
  {
   "cell_type": "markdown",
   "metadata": {},
   "source": [
    "Preparación del dataset para el entreno con la red neuronal"
   ]
  },
  {
   "cell_type": "code",
   "execution_count": 11,
   "metadata": {},
   "outputs": [
    {
     "name": "stdout",
     "output_type": "stream",
     "text": [
      "x_train shape: (22758, 64, 64, 3)\n",
      "22758 train samples\n",
      "5690 test samples\n"
     ]
    }
   ],
   "source": [
    "num_classes = 10\n",
    "img_rows = 64\n",
    "img_cols = 64\n",
    "\n",
    "# Incoming data is in uint8. Cast the input data images to be floats in range [0.0-1.0]  \n",
    "X_train = X_train.astype('float32') / 255\n",
    "X_test = X_test.astype('float32') / 255\n",
    "\n",
    "print('x_train shape:', X_train.shape)\n",
    "print(X_train.shape[0], 'train samples')\n",
    "print(X_test.shape[0], 'test samples')\n",
    "\n",
    "# convert class vectors to binary class matrices\n",
    "\n",
    "y_train = keras.utils.to_categorical(y_train, num_classes, dtype='float32')\n",
    "y_test = keras.utils.to_categorical(y_test, num_classes, dtype='float32')"
   ]
  },
  {
   "cell_type": "markdown",
   "metadata": {},
   "source": [
    "Modelo a aplicar"
   ]
  },
  {
   "cell_type": "code",
   "execution_count": 13,
   "metadata": {},
   "outputs": [],
   "source": [
    "model = Sequential()\n",
    "model.add(Conv2D(32, kernel_size=(3, 3),\n",
    "                 activation='relu',\n",
    "                 input_shape=(64, 64, 3)))\n",
    "model.add(Conv2D(64, (3, 3), activation='relu'))\n",
    "model.add(MaxPooling2D(pool_size=(2, 2)))\n",
    "model.add(Dropout(0.25))\n",
    "model.add(Flatten())\n",
    "model.add(Dense(128, activation='relu'))\n",
    "model.add(Dropout(0.5))\n",
    "model.add(Dense(10, activation='softmax'))\n",
    "\n",
    "model.compile(loss='categorical_crossentropy',\n",
    "              optimizer='adam',\n",
    "              metrics=['accuracy'])"
   ]
  },
  {
   "cell_type": "markdown",
   "metadata": {},
   "source": [
    "Entrenamiento del modelo"
   ]
  },
  {
   "cell_type": "code",
   "execution_count": 14,
   "metadata": {},
   "outputs": [
    {
     "name": "stdout",
     "output_type": "stream",
     "text": [
      "Train on 22758 samples, validate on 5690 samples\n",
      "Epoch 1/10\n",
      "22758/22758 [==============================] - 464s 20ms/step - loss: 2.8509 - accuracy: 0.7560 - val_loss: 0.1768 - val_accuracy: 0.9499\n",
      "Epoch 2/10\n",
      "22758/22758 [==============================] - 463s 20ms/step - loss: 0.2839 - accuracy: 0.9169 - val_loss: 0.0781 - val_accuracy: 0.9782\n",
      "Epoch 3/10\n",
      "22758/22758 [==============================] - 463s 20ms/step - loss: 0.2197 - accuracy: 0.9402 - val_loss: 0.0479 - val_accuracy: 0.9898\n",
      "Epoch 4/10\n",
      "22758/22758 [==============================] - 475s 21ms/step - loss: 0.1732 - accuracy: 0.9543 - val_loss: 0.0375 - val_accuracy: 0.9886\n",
      "Epoch 5/10\n",
      "22758/22758 [==============================] - 461s 20ms/step - loss: 0.1895 - accuracy: 0.9525 - val_loss: 0.0903 - val_accuracy: 0.9805\n",
      "Epoch 6/10\n",
      "22758/22758 [==============================] - 462s 20ms/step - loss: 0.1309 - accuracy: 0.9679 - val_loss: 0.0462 - val_accuracy: 0.9838\n",
      "Epoch 7/10\n",
      "22758/22758 [==============================] - 463s 20ms/step - loss: 0.1538 - accuracy: 0.9636 - val_loss: 0.0232 - val_accuracy: 0.9938\n",
      "Epoch 8/10\n",
      "22758/22758 [==============================] - 475s 21ms/step - loss: 0.1699 - accuracy: 0.9663 - val_loss: 0.0279 - val_accuracy: 0.9919\n",
      "Epoch 9/10\n",
      "22758/22758 [==============================] - 487s 21ms/step - loss: 0.1173 - accuracy: 0.9732 - val_loss: 0.0349 - val_accuracy: 0.9884\n",
      "Epoch 10/10\n",
      "22758/22758 [==============================] - 464s 20ms/step - loss: 0.1280 - accuracy: 0.9750 - val_loss: 0.0138 - val_accuracy: 0.9947\n"
     ]
    },
    {
     "data": {
      "text/plain": [
       "<keras.callbacks.callbacks.History at 0x7f7ae7322f98>"
      ]
     },
     "execution_count": 14,
     "metadata": {},
     "output_type": "execute_result"
    }
   ],
   "source": [
    "# Fit the NN\n",
    "batch_size = 20\n",
    "epochs = 10\n",
    "\n",
    "model.fit(X_train, y_train,\n",
    "          batch_size=batch_size,\n",
    "          epochs=epochs,\n",
    "          verbose=1,\n",
    "          validation_data=(X_test, y_test))"
   ]
  },
  {
   "cell_type": "markdown",
   "metadata": {},
   "source": [
    "Resultados obtenidos"
   ]
  },
  {
   "cell_type": "code",
   "execution_count": 15,
   "metadata": {},
   "outputs": [
    {
     "name": "stdout",
     "output_type": "stream",
     "text": [
      "Accuracy: 99.47%\n",
      "Test loss: 0.013767762560938762\n",
      "Test accuracy: 0.994727611541748\n"
     ]
    }
   ],
   "source": [
    "scores = model.evaluate(X_test, y_test, verbose=0)\n",
    "print(\"Accuracy: %.2f%%\" % (scores[1]*100))\n",
    "print('Test loss:', scores[0])\n",
    "print('Test accuracy:', scores[1])"
   ]
  },
  {
   "cell_type": "markdown",
   "metadata": {},
   "source": [
    "Guardamos el modelo entrenado"
   ]
  },
  {
   "cell_type": "code",
   "execution_count": 16,
   "metadata": {},
   "outputs": [],
   "source": [
    "model.save('first_model.h5')"
   ]
  },
  {
   "cell_type": "markdown",
   "metadata": {},
   "source": [
    "# Predicción sobre test"
   ]
  },
  {
   "cell_type": "markdown",
   "metadata": {},
   "source": [
    "Realizamos predicción sobre nuestro X_test"
   ]
  },
  {
   "cell_type": "code",
   "execution_count": 25,
   "metadata": {},
   "outputs": [],
   "source": [
    "from sklearn.metrics import confusion_matrix\n",
    "import matplotlib.pyplot as plt\n",
    "import seaborn as sns\n",
    "Y_pred = model.predict(X_test)"
   ]
  },
  {
   "cell_type": "markdown",
   "metadata": {},
   "source": [
    "Comparamos con el y_test"
   ]
  },
  {
   "cell_type": "code",
   "execution_count": 27,
   "metadata": {},
   "outputs": [
    {
     "name": "stdout",
     "output_type": "stream",
     "text": [
      "[0 0 1 ... 3 5 8]\n",
      "[0 0 1 ... 3 5 8]\n"
     ]
    },
    {
     "data": {
      "image/png": "[encoded data removed]",
      "text/plain": [
       "<Figure size 576x576 with 2 Axes>"
      ]
     },
     "metadata": {
      "needs_background": "light"
     },
     "output_type": "display_data"
    }
   ],
   "source": [
    "# Convert predictions classes to one hot vectors \n",
    "Y_pred_classes = np.argmax(Y_pred,axis = 1) \n",
    "# Convert validation observations to one hot vectors\n",
    "print(Y_pred_classes)\n",
    "Y_true = np.argmax(y_test,axis = 1)\n",
    "print(Y_true)\n",
    "# compute the confusion matrix\n",
    "cm = confusion_matrix(Y_true, Y_pred_classes)\n",
    "cm = cm.astype('float') / cm.sum(axis=1)[:, np.newaxis]\n",
    "# plot the confusion matrix\n",
    "f,ax = plt.subplots(figsize=(8, 8))\n",
    "sns.heatmap(cm, annot=True, linewidths=0.01,cmap=\"YlGnBu\",linecolor=\"gray\", fmt= '.1f',ax=ax)\n",
    "plt.xlabel(\"Predicted Label\")\n",
    "plt.ylabel(\"True Label\")\n",
    "plt.title(\"Confusion Matrix\")\n",
    "plt.show();"
   ]
  },
  {
   "cell_type": "markdown",
   "metadata": {},
   "source": [
    "Importamos modelo"
   ]
  },
  {
   "cell_type": "code",
   "execution_count": 18,
   "metadata": {},
   "outputs": [],
   "source": [
    "from keras.models import load_model\n",
    "model = load_model('first_model.h5')"
   ]
  },
  {
   "cell_type": "markdown",
   "metadata": {},
   "source": [
    "Listamos las etiquetas para saber identificar según la posición del mayor porcentaje de predicción del vector, a qué objeto pertenece."
   ]
  },
  {
   "cell_type": "code",
   "execution_count": 33,
   "metadata": {},
   "outputs": [
    {
     "data": {
      "text/plain": [
       "['cuchara',\n",
       " 'cuchillo',\n",
       " 'cuenco',\n",
       " 'hervidor',\n",
       " 'otro',\n",
       " 'pelador',\n",
       " 'rodillo',\n",
       " 'tenedor',\n",
       " 'tostadora',\n",
       " 'vaso']"
      ]
     },
     "execution_count": 33,
     "metadata": {},
     "output_type": "execute_result"
    }
   ],
   "source": [
    "class_names = list(dummies.columns)[:-1]\n",
    "class_names"
   ]
  },
  {
   "cell_type": "markdown",
   "metadata": {},
   "source": [
    "Testeamos sobre una imagen aleatoria del test"
   ]
  },
  {
   "cell_type": "code",
   "execution_count": 27,
   "metadata": {},
   "outputs": [
    {
     "name": "stdout",
     "output_type": "stream",
     "text": [
      "[5.3324041e-21 3.8626066e-28 8.5996122e-32 2.4183842e-28 6.4986634e-24\n",
      " 4.5771053e-26 1.0000000e+00 1.2295979e-24 3.2685809e-24 1.9906558e-17]\n",
      "cuchara: 0.0\n",
      "cuchillo: 0.0\n",
      "cuenco: 0.0\n",
      "hervidor: 0.0\n",
      "otro: 0.0\n",
      "pelador: 0.0\n",
      "rodillo: 1.0\n",
      "tenedor: 0.0\n",
      "tostadora: 0.0\n",
      "vaso: 0.0\n",
      "(1, 64, 64, 3)\n"
     ]
    },
    {
     "data": {
      "image/png": "[encoded data removed]",
      "text/plain": [
       "<Figure size 432x288 with 1 Axes>"
      ]
     },
     "metadata": {
      "needs_background": "light"
     },
     "output_type": "display_data"
    }
   ],
   "source": [
    "%matplotlib inline\n",
    "import matplotlib.pyplot as plt\n",
    "from PIL import Image\n",
    "\n",
    "img = X_test[150]\n",
    "pred = model.predict(np.expand_dims(img,axis=0))[0]\n",
    "print(pred)\n",
    "for obj in class_names:\n",
    "    print(f'{obj}: {round(pred[class_names.index(obj)],2)}')\n",
    "print(np.expand_dims(img,axis=0).shape)\n",
    "plt.imshow(img);"
   ]
  },
  {
   "cell_type": "code",
   "execution_count": 32,
   "metadata": {},
   "outputs": [
    {
     "data": {
      "text/plain": [
       "(5690, 64, 64, 3)"
      ]
     },
     "execution_count": 32,
     "metadata": {},
     "output_type": "execute_result"
    }
   ],
   "source": [
    "X_test.shape"
   ]
  }
 ],
 "metadata": {
  "kernelspec": {
   "display_name": "Python 3",
   "language": "python",
   "name": "python3"
  },
  "language_info": {
   "codemirror_mode": {
    "name": "ipython",
    "version": 3
   },
   "file_extension": ".py",
   "mimetype": "text/x-python",
   "name": "python",
   "nbconvert_exporter": "python",
   "pygments_lexer": "ipython3",
   "version": "3.6.9"
  }
 },
 "nbformat": 4,
 "nbformat_minor": 2
}
